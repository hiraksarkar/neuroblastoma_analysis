{
 "cells": [
  {
   "cell_type": "code",
   "execution_count": 38,
   "id": "9456e7dd-7fec-4304-ad15-abd9a5d46c14",
   "metadata": {},
   "outputs": [],
   "source": [
    "suppressPackageStartupMessages({\n",
    "library(dplyr)\n",
    "library(ggpubr)\n",
    "library(ggplot2)\n",
    "library(tidyverse)\n",
    "library(data.table)\n",
    "library(biomaRt)\n",
    "     library(survival)\n",
    "    library(biomaRt)\n",
    "    library(survminer)\n",
    "      library(GEOquery)\n",
    "    })"
   ]
  },
  {
   "cell_type": "code",
   "execution_count": 2,
   "id": "58ee568e-4bff-4a24-9727-ed098281496e",
   "metadata": {},
   "outputs": [],
   "source": [
    "fig.size <- function (height, width) {\n",
    "    options(repr.plot.height = height, repr.plot.width = width)\n",
    "}"
   ]
  },
  {
   "cell_type": "code",
   "execution_count": 3,
   "id": "a2fbb929-a616-4c27-8d94-65e5edeb9fa3",
   "metadata": {},
   "outputs": [],
   "source": [
    "matrix <- read.delim(\"GSE49711_SEQC_NB_TUC_G_log2.txt\", header = T)\n",
    "matrix <- matrix %>%\n",
    "  gather(\"Sample_title\",value,-c(\"X00gene_id\"))\n",
    "  \n",
    "# convert from log2(FPKM + 1) to FPKM\n",
    "matrix$value <- ( ( (matrix$value) ^2) - 1)\n",
    "\n",
    "# splitting sample_titles\n",
    "setDT(matrix)[, c(\"V1\",\"V2\",\"V3\",\"V4\",\"V5\") := tstrsplit(matrix$Sample_title, \"_\", fixed=TRUE)]\n",
    "setDT(matrix)[,\"new_sample_title\" := paste0(matrix$V1,\"_\",matrix$V2)]\n",
    "\n",
    "matrix <-  subset(matrix, select = c(\"X00gene_id\",\"new_sample_title\",\"value\"))\n",
    "colnames(matrix)[colnames(matrix)==\"new_sample_title\"] <- \"Sample_title\""
   ]
  },
  {
   "cell_type": "code",
   "execution_count": 6,
   "id": "4534cb71-5028-4c32-b6b8-a826608330ed",
   "metadata": {},
   "outputs": [
    {
     "data": {
      "text/html": [
       "1900368"
      ],
      "text/latex": [
       "1900368"
      ],
      "text/markdown": [
       "1900368"
      ],
      "text/plain": [
       "[1] 1900368"
      ]
     },
     "metadata": {},
     "output_type": "display_data"
    }
   ],
   "source": [
    "matrix$X00gene_id %>% length"
   ]
  },
  {
   "cell_type": "code",
   "execution_count": 9,
   "id": "addbc825-932f-49fe-851e-462e1665b363",
   "metadata": {},
   "outputs": [
    {
     "data": {
      "text/html": [
       "3816"
      ],
      "text/latex": [
       "3816"
      ],
      "text/markdown": [
       "3816"
      ],
      "text/plain": [
       "[1] 3816"
      ]
     },
     "metadata": {},
     "output_type": "display_data"
    }
   ],
   "source": [
    "unique(matrix$X00gene_id) %>% length"
   ]
  },
  {
   "cell_type": "code",
   "execution_count": 27,
   "id": "78518e68-c8eb-49e0-8f0d-463107aa4400",
   "metadata": {},
   "outputs": [
    {
     "ename": "ERROR",
     "evalue": "Error in df$RefSeqID: object of type 'closure' is not subsettable\n",
     "output_type": "error",
     "traceback": [
      "Error in df$RefSeqID: object of type 'closure' is not subsettable\nTraceback:\n"
     ]
    }
   ],
   "source": [
    "ensembl <- useMart(\"ensembl\", dataset = \"hsapiens_gene_ensembl\")\n",
    "\n",
    "gene_mapping <- getBM(\n",
    "    attributes = c('refseq_mrna', 'hgnc_symbol'),\n",
    "    filters = 'refseq_mrna',\n",
    "    values = data$RefSeqID,\n",
    "    mart = ensembl\n",
    ")\n",
    "\n",
    "df <- left_join(df, gene_mapping, by = c(\"RefSeqID\" = \"refseq_mrna\"))"
   ]
  },
  {
   "cell_type": "code",
   "execution_count": 28,
   "id": "1758ec7b-f4ab-428a-b627-9d12e9a70898",
   "metadata": {},
   "outputs": [
    {
     "ename": "ERROR",
     "evalue": "Error in eval(expr, envir, enclos): object 'gene_mapping' not found\n",
     "output_type": "error",
     "traceback": [
      "Error in eval(expr, envir, enclos): object 'gene_mapping' not found\nTraceback:\n"
     ]
    }
   ],
   "source": [
    "gene_mapping"
   ]
  },
  {
   "cell_type": "code",
   "execution_count": 158,
   "id": "a5e1b7c4-ab90-4b86-9f31-de4a09d62139",
   "metadata": {},
   "outputs": [
    {
     "data": {
      "text/plain": [
       "                                              \n",
       "1 function (x, df1, df2, ncp, log = FALSE)    \n",
       "2 {                                           \n",
       "3     if (missing(ncp))                       \n",
       "4         .Call(C_df, x, df1, df2, log)       \n",
       "5     else .Call(C_dnf, x, df1, df2, ncp, log)\n",
       "6 }                                           "
      ]
     },
     "metadata": {},
     "output_type": "display_data"
    }
   ],
   "source": [
    "df %>% head"
   ]
  },
  {
   "cell_type": "markdown",
   "id": "977883d3-a147-47fb-b2fb-d7f492f08c99",
   "metadata": {},
   "source": [
    "### MYCN status"
   ]
  },
  {
   "cell_type": "code",
   "execution_count": 10,
   "id": "d592339e-fe94-4bc0-b429-2c3c85f9b9df",
   "metadata": {},
   "outputs": [],
   "source": [
    "# reading in soft file to get risk and mycn status for sample_titles\n",
    "family.soft <-  read.delim(\"GSE49711_family.soft\", header = F)\n",
    "# Sample_titles\n",
    "sample.title <-  as.data.frame(family.soft[ (family.soft$V1 %like% \"!Sample_title\" ), ])\n",
    "colnames(sample.title) <- \"V1\"\n",
    "setDT(sample.title)[, c(\"V1\", \"sample_title\") := tstrsplit(sample.title$V1, \"=\", fixed=TRUE)]"
   ]
  },
  {
   "cell_type": "code",
   "execution_count": 14,
   "id": "81c03780-70d9-4b12-bf57-1e86d2b06a60",
   "metadata": {},
   "outputs": [],
   "source": [
    "# high_risk\n",
    "risk <-  as.data.frame(family.soft[ (family.soft$V1 %like% \"!Sample_characteristics_ch1 = high risk\"), ])\n",
    "colnames(risk) <- \"V1\"\n",
    "setDT(risk)[, c(\"V1\", \"high_risk\") := tstrsplit(risk$V1, \":\", fixed=TRUE)]\n",
    "\n",
    "# mycn_status\n",
    "mycn_status <- as.data.frame(family.soft[ (family.soft$V1 %like% \"!Sample_characteristics_ch1 = mycn status\"), ])\n",
    "colnames(mycn_status) <- \"V1\"\n",
    "setDT(mycn_status)[, c(\"V1\", \"mycn_status\") := tstrsplit(mycn_status$V1, \":\", fixed=TRUE)]\n",
    "\n",
    "\n",
    "\n",
    "# combining sample with mycn status and risk\n",
    "sample.mycn.risk <- as.data.frame(cbind(sample.title$sample_title, mycn_status$mycn_status, risk$high_risk))\n",
    "colnames(sample.mycn.risk) <-  c(\"Sample_title\",\"mycn_status\",\"high_risk\")\n",
    "# Sample titles were of type integer, changing to character\n",
    "sample.mycn.risk$Sample_title <- as.character(sample.mycn.risk$Sample_title)\n",
    "# removing blank space before the sample_title\n",
    "sample.mycn.risk$Sample_title <- gsub(\" \",\"\",sample.mycn.risk$Sample_title, fixed = T)"
   ]
  },
  {
   "cell_type": "code",
   "execution_count": 16,
   "id": "2187562c-a10a-43ae-a430-1386c074095f",
   "metadata": {},
   "outputs": [
    {
     "data": {
      "text/html": [
       "<table class=\"dataframe\">\n",
       "<caption>A data.frame: 6 × 3</caption>\n",
       "<thead>\n",
       "\t<tr><th></th><th scope=col>Sample_title</th><th scope=col>mycn_status</th><th scope=col>high_risk</th></tr>\n",
       "\t<tr><th></th><th scope=col>&lt;chr&gt;</th><th scope=col>&lt;chr&gt;</th><th scope=col>&lt;chr&gt;</th></tr>\n",
       "</thead>\n",
       "<tbody>\n",
       "\t<tr><th scope=row>1</th><td>SEQC_NB001</td><td> 0</td><td> 1</td></tr>\n",
       "\t<tr><th scope=row>2</th><td>SEQC_NB002</td><td> 0</td><td> 1</td></tr>\n",
       "\t<tr><th scope=row>3</th><td>SEQC_NB003</td><td> 1</td><td> 1</td></tr>\n",
       "\t<tr><th scope=row>4</th><td>SEQC_NB004</td><td> 1</td><td> 1</td></tr>\n",
       "\t<tr><th scope=row>5</th><td>SEQC_NB005</td><td> 1</td><td> 1</td></tr>\n",
       "\t<tr><th scope=row>6</th><td>SEQC_NB006</td><td> 0</td><td> 0</td></tr>\n",
       "</tbody>\n",
       "</table>\n"
      ],
      "text/latex": [
       "A data.frame: 6 × 3\n",
       "\\begin{tabular}{r|lll}\n",
       "  & Sample\\_title & mycn\\_status & high\\_risk\\\\\n",
       "  & <chr> & <chr> & <chr>\\\\\n",
       "\\hline\n",
       "\t1 & SEQC\\_NB001 &  0 &  1\\\\\n",
       "\t2 & SEQC\\_NB002 &  0 &  1\\\\\n",
       "\t3 & SEQC\\_NB003 &  1 &  1\\\\\n",
       "\t4 & SEQC\\_NB004 &  1 &  1\\\\\n",
       "\t5 & SEQC\\_NB005 &  1 &  1\\\\\n",
       "\t6 & SEQC\\_NB006 &  0 &  0\\\\\n",
       "\\end{tabular}\n"
      ],
      "text/markdown": [
       "\n",
       "A data.frame: 6 × 3\n",
       "\n",
       "| <!--/--> | Sample_title &lt;chr&gt; | mycn_status &lt;chr&gt; | high_risk &lt;chr&gt; |\n",
       "|---|---|---|---|\n",
       "| 1 | SEQC_NB001 |  0 |  1 |\n",
       "| 2 | SEQC_NB002 |  0 |  1 |\n",
       "| 3 | SEQC_NB003 |  1 |  1 |\n",
       "| 4 | SEQC_NB004 |  1 |  1 |\n",
       "| 5 | SEQC_NB005 |  1 |  1 |\n",
       "| 6 | SEQC_NB006 |  0 |  0 |\n",
       "\n"
      ],
      "text/plain": [
       "  Sample_title mycn_status high_risk\n",
       "1 SEQC_NB001    0           1       \n",
       "2 SEQC_NB002    0           1       \n",
       "3 SEQC_NB003    1           1       \n",
       "4 SEQC_NB004    1           1       \n",
       "5 SEQC_NB005    1           1       \n",
       "6 SEQC_NB006    0           0       "
      ]
     },
     "metadata": {},
     "output_type": "display_data"
    }
   ],
   "source": [
    "sample.mycn.risk %>% head"
   ]
  },
  {
   "cell_type": "code",
   "execution_count": 19,
   "id": "f2c4bc8d-3c43-46f0-8ff1-853a8d3a5df4",
   "metadata": {},
   "outputs": [],
   "source": [
    "data <-  read.delim(\"GSE62564_SEQC_NB_RNA-Seq_log2RPM.txt\", header = T)\n",
    "data <- data %>%\n",
    "  gather(variable,value, -c(\"RefSeqID\"))\n",
    "\n",
    "soft.file <- soft.file <- read.delim(\"GSE62564_family.soft\", header = F)\n",
    "# Sample_ID\n",
    "sample.ID <-  as.data.frame(soft.file[ (soft.file$V1 %like% \"!Sample_title\" ), ])\n",
    "colnames(sample.ID) <- \"V1\"\n",
    "setDT(sample.ID)[, c(\"V1\", \"sample_title\") := tstrsplit(sample.ID$V1, \"=\", fixed=TRUE)]\n",
    "setDT(sample.ID)[, c(\"sample_ID\") := tstrsplit(sample.ID$sample_title, \"[2]\", fixed=TRUE)]\n",
    "sample.ID <- subset(sample.ID,select = c(\"sample_ID\") )\n",
    "\n",
    "# Sample_titles\n",
    "sample.title <-  as.data.frame(soft.file[ (soft.file$V1 %like% \"!Sample_geo_accession\" ), ])\n",
    "colnames(sample.title) <- \"V1\"\n",
    "setDT(sample.title)[, c(\"V1\", \"sample_title\") := tstrsplit(sample.title$V1, \"=\", fixed=TRUE)]"
   ]
  },
  {
   "cell_type": "code",
   "execution_count": 48,
   "id": "123db300-6fda-4d17-8076-5a1437c7d415",
   "metadata": {},
   "outputs": [
    {
     "data": {
      "text/html": [
       "43827"
      ],
      "text/latex": [
       "43827"
      ],
      "text/markdown": [
       "43827"
      ],
      "text/plain": [
       "[1] 43827"
      ]
     },
     "metadata": {},
     "output_type": "display_data"
    }
   ],
   "source": [
    " data$RefSeqID %>% unique %>% length"
   ]
  },
  {
   "cell_type": "code",
   "execution_count": 49,
   "id": "74a12f6e-f093-4cc0-8eab-60305837af9e",
   "metadata": {},
   "outputs": [
    {
     "name": "stderr",
     "output_type": "stream",
     "text": [
      "\n",
      "Batch submitting query [==>----------------------------]  11% eta: 12s\n",
      "\n",
      "Batch submitting query [======>------------------------]  22% eta: 10s\n",
      "\n",
      "Batch submitting query [=========>---------------------]  33% eta:  9s\n",
      "\n",
      "Batch submitting query [=============>-----------------]  44% eta:  7s\n",
      "\n",
      "Batch submitting query [================>--------------]  56% eta:  6s\n",
      "\n",
      "Batch submitting query [====================>----------]  67% eta:  4s\n",
      "\n",
      "Batch submitting query [=======================>-------]  78% eta:  3s\n",
      "\n",
      "Batch submitting query [===========================>---]  89% eta:  1s\n",
      "                                                                      \n",
      "\n"
     ]
    }
   ],
   "source": [
    "ensembl <- useMart(\"ensembl\", dataset = \"hsapiens_gene_ensembl\")\n",
    "\n",
    "gene_mapping <- getBM(\n",
    "    attributes = c('refseq_mrna', 'hgnc_symbol'),\n",
    "    filters = 'refseq_mrna',\n",
    "    values =  data$RefSeqID %>% unique,\n",
    "    mart = ensembl\n",
    ")"
   ]
  },
  {
   "cell_type": "code",
   "execution_count": 60,
   "id": "874e72e8-771c-495a-b9c0-a7233b71a47f",
   "metadata": {},
   "outputs": [
    {
     "data": {
      "text/html": [
       "<style>\n",
       ".list-inline {list-style: none; margin:0; padding: 0}\n",
       ".list-inline>li {display: inline-block}\n",
       ".list-inline>li:not(:last-child)::after {content: \"\\00b7\"; padding: 0 .5ex}\n",
       "</style>\n",
       "<ol class=list-inline><li>31965</li><li>2</li></ol>\n"
      ],
      "text/latex": [
       "\\begin{enumerate*}\n",
       "\\item 31965\n",
       "\\item 2\n",
       "\\end{enumerate*}\n"
      ],
      "text/markdown": [
       "1. 31965\n",
       "2. 2\n",
       "\n",
       "\n"
      ],
      "text/plain": [
       "[1] 31965     2"
      ]
     },
     "metadata": {},
     "output_type": "display_data"
    }
   ],
   "source": [
    "gene_mapping %>% dim"
   ]
  },
  {
   "cell_type": "code",
   "execution_count": 51,
   "id": "24bc3794-1f12-4adb-a64f-310a351bbb46",
   "metadata": {},
   "outputs": [
    {
     "data": {
      "text/html": [
       "<table class=\"dataframe\">\n",
       "<caption>A data.frame: 6 × 3</caption>\n",
       "<thead>\n",
       "\t<tr><th></th><th scope=col>RefSeqID</th><th scope=col>variable</th><th scope=col>value</th></tr>\n",
       "\t<tr><th></th><th scope=col>&lt;chr&gt;</th><th scope=col>&lt;chr&gt;</th><th scope=col>&lt;dbl&gt;</th></tr>\n",
       "</thead>\n",
       "<tbody>\n",
       "\t<tr><th scope=row>1</th><td>NM_000014</td><td>SEQC_NB001</td><td> 7.211</td></tr>\n",
       "\t<tr><th scope=row>2</th><td>NM_000015</td><td>SEQC_NB001</td><td>-4.396</td></tr>\n",
       "\t<tr><th scope=row>3</th><td>NM_000016</td><td>SEQC_NB001</td><td> 5.144</td></tr>\n",
       "\t<tr><th scope=row>4</th><td>NM_000017</td><td>SEQC_NB001</td><td> 3.537</td></tr>\n",
       "\t<tr><th scope=row>5</th><td>NM_000018</td><td>SEQC_NB001</td><td> 6.783</td></tr>\n",
       "\t<tr><th scope=row>6</th><td>NM_000019</td><td>SEQC_NB001</td><td> 3.650</td></tr>\n",
       "</tbody>\n",
       "</table>\n"
      ],
      "text/latex": [
       "A data.frame: 6 × 3\n",
       "\\begin{tabular}{r|lll}\n",
       "  & RefSeqID & variable & value\\\\\n",
       "  & <chr> & <chr> & <dbl>\\\\\n",
       "\\hline\n",
       "\t1 & NM\\_000014 & SEQC\\_NB001 &  7.211\\\\\n",
       "\t2 & NM\\_000015 & SEQC\\_NB001 & -4.396\\\\\n",
       "\t3 & NM\\_000016 & SEQC\\_NB001 &  5.144\\\\\n",
       "\t4 & NM\\_000017 & SEQC\\_NB001 &  3.537\\\\\n",
       "\t5 & NM\\_000018 & SEQC\\_NB001 &  6.783\\\\\n",
       "\t6 & NM\\_000019 & SEQC\\_NB001 &  3.650\\\\\n",
       "\\end{tabular}\n"
      ],
      "text/markdown": [
       "\n",
       "A data.frame: 6 × 3\n",
       "\n",
       "| <!--/--> | RefSeqID &lt;chr&gt; | variable &lt;chr&gt; | value &lt;dbl&gt; |\n",
       "|---|---|---|---|\n",
       "| 1 | NM_000014 | SEQC_NB001 |  7.211 |\n",
       "| 2 | NM_000015 | SEQC_NB001 | -4.396 |\n",
       "| 3 | NM_000016 | SEQC_NB001 |  5.144 |\n",
       "| 4 | NM_000017 | SEQC_NB001 |  3.537 |\n",
       "| 5 | NM_000018 | SEQC_NB001 |  6.783 |\n",
       "| 6 | NM_000019 | SEQC_NB001 |  3.650 |\n",
       "\n"
      ],
      "text/plain": [
       "  RefSeqID  variable   value \n",
       "1 NM_000014 SEQC_NB001  7.211\n",
       "2 NM_000015 SEQC_NB001 -4.396\n",
       "3 NM_000016 SEQC_NB001  5.144\n",
       "4 NM_000017 SEQC_NB001  3.537\n",
       "5 NM_000018 SEQC_NB001  6.783\n",
       "6 NM_000019 SEQC_NB001  3.650"
      ]
     },
     "metadata": {},
     "output_type": "display_data"
    }
   ],
   "source": [
    "data %>% head"
   ]
  },
  {
   "cell_type": "code",
   "execution_count": 64,
   "id": "7ef0dc30-25c6-4da0-a796-b79e1302c5c5",
   "metadata": {},
   "outputs": [],
   "source": [
    "library(dplyr)"
   ]
  },
  {
   "cell_type": "code",
   "execution_count": 57,
   "id": "f92bc96e-121f-41af-bd59-ec6213937d7e",
   "metadata": {},
   "outputs": [
    {
     "name": "stderr",
     "output_type": "stream",
     "text": [
      "Warning message in left_join(., gene_mapping, by = c(RefSeqID = \"refseq_mrna\")):\n",
      "“\u001b[1m\u001b[22mDetected an unexpected many-to-many relationship between `x` and `y`.\n",
      "\u001b[36mℹ\u001b[39m Row 324 of `x` matches multiple rows in `y`.\n",
      "\u001b[36mℹ\u001b[39m Row 1 of `y` matches multiple rows in `x`.\n",
      "\u001b[36mℹ\u001b[39m If a many-to-many relationship is expected, set `relationship = \"many-to-many\"` to silence this warning.”\n"
     ]
    }
   ],
   "source": [
    "data_merged = data %>% \n",
    "  left_join(gene_mapping, by = c(\"RefSeqID\" = \"refseq_mrna\")) "
   ]
  },
  {
   "cell_type": "code",
   "execution_count": 62,
   "id": "fd40010a-8788-41d8-a19c-085c18778178",
   "metadata": {},
   "outputs": [
    {
     "data": {
      "text/html": [
       "<table class=\"dataframe\">\n",
       "<caption>A data.frame: 6 × 4</caption>\n",
       "<thead>\n",
       "\t<tr><th></th><th scope=col>RefSeqID</th><th scope=col>variable</th><th scope=col>value</th><th scope=col>hgnc_symbol</th></tr>\n",
       "\t<tr><th></th><th scope=col>&lt;chr&gt;</th><th scope=col>&lt;chr&gt;</th><th scope=col>&lt;dbl&gt;</th><th scope=col>&lt;chr&gt;</th></tr>\n",
       "</thead>\n",
       "<tbody>\n",
       "\t<tr><th scope=row>1</th><td>NM_000014</td><td>SEQC_NB001</td><td> 7.211</td><td>A2M   </td></tr>\n",
       "\t<tr><th scope=row>2</th><td>NM_000015</td><td>SEQC_NB001</td><td>-4.396</td><td>NAT2  </td></tr>\n",
       "\t<tr><th scope=row>3</th><td>NM_000016</td><td>SEQC_NB001</td><td> 5.144</td><td>ACADM </td></tr>\n",
       "\t<tr><th scope=row>4</th><td>NM_000017</td><td>SEQC_NB001</td><td> 3.537</td><td>ACADS </td></tr>\n",
       "\t<tr><th scope=row>5</th><td>NM_000018</td><td>SEQC_NB001</td><td> 6.783</td><td>ACADVL</td></tr>\n",
       "\t<tr><th scope=row>6</th><td>NM_000019</td><td>SEQC_NB001</td><td> 3.650</td><td>ACAT1 </td></tr>\n",
       "</tbody>\n",
       "</table>\n"
      ],
      "text/latex": [
       "A data.frame: 6 × 4\n",
       "\\begin{tabular}{r|llll}\n",
       "  & RefSeqID & variable & value & hgnc\\_symbol\\\\\n",
       "  & <chr> & <chr> & <dbl> & <chr>\\\\\n",
       "\\hline\n",
       "\t1 & NM\\_000014 & SEQC\\_NB001 &  7.211 & A2M   \\\\\n",
       "\t2 & NM\\_000015 & SEQC\\_NB001 & -4.396 & NAT2  \\\\\n",
       "\t3 & NM\\_000016 & SEQC\\_NB001 &  5.144 & ACADM \\\\\n",
       "\t4 & NM\\_000017 & SEQC\\_NB001 &  3.537 & ACADS \\\\\n",
       "\t5 & NM\\_000018 & SEQC\\_NB001 &  6.783 & ACADVL\\\\\n",
       "\t6 & NM\\_000019 & SEQC\\_NB001 &  3.650 & ACAT1 \\\\\n",
       "\\end{tabular}\n"
      ],
      "text/markdown": [
       "\n",
       "A data.frame: 6 × 4\n",
       "\n",
       "| <!--/--> | RefSeqID &lt;chr&gt; | variable &lt;chr&gt; | value &lt;dbl&gt; | hgnc_symbol &lt;chr&gt; |\n",
       "|---|---|---|---|---|\n",
       "| 1 | NM_000014 | SEQC_NB001 |  7.211 | A2M    |\n",
       "| 2 | NM_000015 | SEQC_NB001 | -4.396 | NAT2   |\n",
       "| 3 | NM_000016 | SEQC_NB001 |  5.144 | ACADM  |\n",
       "| 4 | NM_000017 | SEQC_NB001 |  3.537 | ACADS  |\n",
       "| 5 | NM_000018 | SEQC_NB001 |  6.783 | ACADVL |\n",
       "| 6 | NM_000019 | SEQC_NB001 |  3.650 | ACAT1  |\n",
       "\n"
      ],
      "text/plain": [
       "  RefSeqID  variable   value  hgnc_symbol\n",
       "1 NM_000014 SEQC_NB001  7.211 A2M        \n",
       "2 NM_000015 SEQC_NB001 -4.396 NAT2       \n",
       "3 NM_000016 SEQC_NB001  5.144 ACADM      \n",
       "4 NM_000017 SEQC_NB001  3.537 ACADS      \n",
       "5 NM_000018 SEQC_NB001  6.783 ACADVL     \n",
       "6 NM_000019 SEQC_NB001  3.650 ACAT1      "
      ]
     },
     "metadata": {},
     "output_type": "display_data"
    }
   ],
   "source": [
    "data_merged %>% head"
   ]
  },
  {
   "cell_type": "code",
   "execution_count": 77,
   "id": "263ebc01-0682-485c-b977-5ec2fc958ff5",
   "metadata": {},
   "outputs": [],
   "source": [
    "data_cleaned <- data_merged %>%\n",
    "    filter(!is.na(hgnc_symbol))"
   ]
  },
  {
   "cell_type": "code",
   "execution_count": 95,
   "id": "a555c17b-a35d-4c32-bbaf-65c15d2d5b28",
   "metadata": {},
   "outputs": [],
   "source": [
    "your_tibble = data_cleaned %>%\n",
    "    dplyr::select(hgnc_symbol, variable, value) %>%\n",
    "    pivot_wider(names_from = variable, values_from = value, values_fn = mean) "
   ]
  },
  {
   "cell_type": "code",
   "execution_count": 96,
   "id": "b581131d-38e2-470e-a59f-841226fbea0b",
   "metadata": {},
   "outputs": [
    {
     "data": {
      "text/html": [
       "<style>\n",
       ".list-inline {list-style: none; margin:0; padding: 0}\n",
       ".list-inline>li {display: inline-block}\n",
       ".list-inline>li:not(:last-child)::after {content: \"\\00b7\"; padding: 0 .5ex}\n",
       "</style>\n",
       "<ol class=list-inline><li>18674</li><li>499</li></ol>\n"
      ],
      "text/latex": [
       "\\begin{enumerate*}\n",
       "\\item 18674\n",
       "\\item 499\n",
       "\\end{enumerate*}\n"
      ],
      "text/markdown": [
       "1. 18674\n",
       "2. 499\n",
       "\n",
       "\n"
      ],
      "text/plain": [
       "[1] 18674   499"
      ]
     },
     "metadata": {},
     "output_type": "display_data"
    }
   ],
   "source": [
    "your_tibble %>% dim"
   ]
  },
  {
   "cell_type": "code",
   "execution_count": 97,
   "id": "8b47ce9c-2bbf-4ac1-94d2-6f98f0e49875",
   "metadata": {},
   "outputs": [],
   "source": [
    "gene_names <- your_tibble$hgnc_symbol"
   ]
  },
  {
   "cell_type": "code",
   "execution_count": 98,
   "id": "25be0eba-51c2-42bd-bf99-462cfd83a20f",
   "metadata": {},
   "outputs": [],
   "source": [
    "your_tibble <- your_tibble %>% dplyr::select(-hgnc_symbol)  # Remove the GeneName column\n",
    "matrix_data <- as.matrix(your_tibble)  # Convert"
   ]
  },
  {
   "cell_type": "code",
   "execution_count": 99,
   "id": "a4e6de96-c822-441f-b662-d903950fa73e",
   "metadata": {},
   "outputs": [
    {
     "data": {
      "text/html": [
       "<style>\n",
       ".list-inline {list-style: none; margin:0; padding: 0}\n",
       ".list-inline>li {display: inline-block}\n",
       ".list-inline>li:not(:last-child)::after {content: \"\\00b7\"; padding: 0 .5ex}\n",
       "</style>\n",
       "<ol class=list-inline><li>18674</li><li>498</li></ol>\n"
      ],
      "text/latex": [
       "\\begin{enumerate*}\n",
       "\\item 18674\n",
       "\\item 498\n",
       "\\end{enumerate*}\n"
      ],
      "text/markdown": [
       "1. 18674\n",
       "2. 498\n",
       "\n",
       "\n"
      ],
      "text/plain": [
       "[1] 18674   498"
      ]
     },
     "metadata": {},
     "output_type": "display_data"
    }
   ],
   "source": [
    "matrix_data %>% dim"
   ]
  },
  {
   "cell_type": "code",
   "execution_count": 101,
   "id": "59a20b8f-ab50-4891-b122-2f2357181f5b",
   "metadata": {},
   "outputs": [],
   "source": [
    "rownames(matrix_data) = gene_names"
   ]
  },
  {
   "cell_type": "code",
   "execution_count": 103,
   "id": "a6442c00-36db-4740-9284-b8a5125ff8da",
   "metadata": {},
   "outputs": [
    {
     "data": {
      "text/html": [
       "TRUE"
      ],
      "text/latex": [
       "TRUE"
      ],
      "text/markdown": [
       "TRUE"
      ],
      "text/plain": [
       "[1] TRUE"
      ]
     },
     "metadata": {},
     "output_type": "display_data"
    }
   ],
   "source": [
    "'DDIT4' %in% rownames(matrix_data)"
   ]
  },
  {
   "cell_type": "code",
   "execution_count": 36,
   "id": "feda6246-aaa9-4485-9ec6-8852519dd5b3",
   "metadata": {},
   "outputs": [],
   "source": [
    "gse = readRDS('/scratch/gpfs/KANG/hirak/mendel/Projects/neuroblastoma_analysis/survival/GSE62564_info.rds')"
   ]
  },
  {
   "cell_type": "code",
   "execution_count": 104,
   "id": "406cb11e-788d-4f98-8694-54a4c6dfa023",
   "metadata": {},
   "outputs": [
    {
     "data": {
      "text/html": [
       "<table class=\"dataframe\">\n",
       "<caption>A data.frame: 6 × 3</caption>\n",
       "<thead>\n",
       "\t<tr><th></th><th scope=col>Sample_title</th><th scope=col>mycn_status</th><th scope=col>high_risk</th></tr>\n",
       "\t<tr><th></th><th scope=col>&lt;chr&gt;</th><th scope=col>&lt;chr&gt;</th><th scope=col>&lt;chr&gt;</th></tr>\n",
       "</thead>\n",
       "<tbody>\n",
       "\t<tr><th scope=row>1</th><td>SEQC_NB001</td><td> 0</td><td> 1</td></tr>\n",
       "\t<tr><th scope=row>2</th><td>SEQC_NB002</td><td> 0</td><td> 1</td></tr>\n",
       "\t<tr><th scope=row>3</th><td>SEQC_NB003</td><td> 1</td><td> 1</td></tr>\n",
       "\t<tr><th scope=row>4</th><td>SEQC_NB004</td><td> 1</td><td> 1</td></tr>\n",
       "\t<tr><th scope=row>5</th><td>SEQC_NB005</td><td> 1</td><td> 1</td></tr>\n",
       "\t<tr><th scope=row>6</th><td>SEQC_NB006</td><td> 0</td><td> 0</td></tr>\n",
       "</tbody>\n",
       "</table>\n"
      ],
      "text/latex": [
       "A data.frame: 6 × 3\n",
       "\\begin{tabular}{r|lll}\n",
       "  & Sample\\_title & mycn\\_status & high\\_risk\\\\\n",
       "  & <chr> & <chr> & <chr>\\\\\n",
       "\\hline\n",
       "\t1 & SEQC\\_NB001 &  0 &  1\\\\\n",
       "\t2 & SEQC\\_NB002 &  0 &  1\\\\\n",
       "\t3 & SEQC\\_NB003 &  1 &  1\\\\\n",
       "\t4 & SEQC\\_NB004 &  1 &  1\\\\\n",
       "\t5 & SEQC\\_NB005 &  1 &  1\\\\\n",
       "\t6 & SEQC\\_NB006 &  0 &  0\\\\\n",
       "\\end{tabular}\n"
      ],
      "text/markdown": [
       "\n",
       "A data.frame: 6 × 3\n",
       "\n",
       "| <!--/--> | Sample_title &lt;chr&gt; | mycn_status &lt;chr&gt; | high_risk &lt;chr&gt; |\n",
       "|---|---|---|---|\n",
       "| 1 | SEQC_NB001 |  0 |  1 |\n",
       "| 2 | SEQC_NB002 |  0 |  1 |\n",
       "| 3 | SEQC_NB003 |  1 |  1 |\n",
       "| 4 | SEQC_NB004 |  1 |  1 |\n",
       "| 5 | SEQC_NB005 |  1 |  1 |\n",
       "| 6 | SEQC_NB006 |  0 |  0 |\n",
       "\n"
      ],
      "text/plain": [
       "  Sample_title mycn_status high_risk\n",
       "1 SEQC_NB001    0           1       \n",
       "2 SEQC_NB002    0           1       \n",
       "3 SEQC_NB003    1           1       \n",
       "4 SEQC_NB004    1           1       \n",
       "5 SEQC_NB005    1           1       \n",
       "6 SEQC_NB006    0           0       "
      ]
     },
     "metadata": {},
     "output_type": "display_data"
    }
   ],
   "source": [
    "sample.mycn.risk %>% head"
   ]
  },
  {
   "cell_type": "code",
   "execution_count": null,
   "id": "df7a9b48-ab23-437f-a310-1a61144507e8",
   "metadata": {},
   "outputs": [],
   "source": []
  },
  {
   "cell_type": "code",
   "execution_count": null,
   "id": "6c8601e3-0537-4c74-bb10-51fbfeaa490e",
   "metadata": {},
   "outputs": [],
   "source": []
  },
  {
   "cell_type": "code",
   "execution_count": null,
   "id": "881343ab-3b23-484f-86da-096bd09ee8f4",
   "metadata": {},
   "outputs": [],
   "source": []
  },
  {
   "cell_type": "code",
   "execution_count": null,
   "id": "e3a2285f-f0a0-47c2-a320-4e6d02348b51",
   "metadata": {},
   "outputs": [],
   "source": []
  },
  {
   "cell_type": "code",
   "execution_count": null,
   "id": "2194edb0-add8-4ab2-8857-bdb77d86e015",
   "metadata": {},
   "outputs": [],
   "source": []
  },
  {
   "cell_type": "code",
   "execution_count": 35,
   "id": "cafeb18f-3bf9-48d4-801e-e7b457360a3c",
   "metadata": {},
   "outputs": [],
   "source": [
    "#efs_day \n",
    "efs.day <- as.data.frame(soft.file[ (soft.file$V1 %like% \"!Sample_characteristics_ch1 = efs day\" ), ])\n",
    "colnames(efs.day) <- \"V1\"\n",
    "setDT(efs.day)[, c(\"V1\", \"sample_title\") := tstrsplit(efs.day$V1, \"=\", fixed=TRUE)]\n",
    "setDT(efs.day)[, c(\"sample_title\",\"EFS day\") := tstrsplit(efs.day$sample_title, \":\", fixed=TRUE)]\n",
    "efs.day <- subset(efs.day, select = c(\"EFS day\"))\n",
    "\n",
    "\n",
    "\n",
    "#efs_bin\n",
    "efs.bin <- as.data.frame(soft.file[ (soft.file$V1 %like% \"!Sample_characteristics_ch1 = efs bin\" ), ])\n",
    "colnames(efs.bin) <- \"V1\"\n",
    "setDT(efs.bin)[, c(\"V1\", \"sample_title\") := tstrsplit(efs.bin$V1, \"=\", fixed=TRUE)]\n",
    "setDT(efs.bin)[, c(\"sample_title\",\"EFS bin\") := tstrsplit(efs.bin$sample_title, \":\", fixed=TRUE)]\n",
    "efs.bin <- subset(efs.bin, select = c(\"EFS bin\"))\n",
    "\n",
    "#os_day\n",
    "os.day <- as.data.frame(soft.file[ (soft.file$V1 %like% \"!Sample_characteristics_ch1 = os day\" ), ])\n",
    "colnames(os.day) <- \"V1\"\n",
    "setDT(os.day)[, c(\"V1\", \"sample_title\") := tstrsplit(os.day$V1, \"=\", fixed=TRUE)]\n",
    "setDT(os.day)[, c(\"sample_title\",\"OS day\") := tstrsplit(os.day$sample_title, \":\", fixed=TRUE)]\n",
    "os.day <- subset(os.day, select = c(\"OS day\"))\n",
    "\n",
    "\n",
    "#os_bin\n",
    "os.bin <- as.data.frame(soft.file[ (soft.file$V1 %like% \"!Sample_characteristics_ch1 = os bin\" ), ])\n",
    "colnames(os.bin) <- \"V1\"\n",
    "setDT(os.bin)[, c(\"V1\", \"sample_title\") := tstrsplit(os.bin$V1, \"=\", fixed=TRUE)]\n",
    "setDT(os.bin)[, c(\"sample_title\",\"OS bin\") := tstrsplit(os.bin$sample_title, \":\", fixed=TRUE)]\n",
    "os.bin <- subset(os.bin, select = c(\"OS bin\"))\n",
    "\n",
    "\n",
    "# high_risk\n",
    "high.risk <- as.data.frame(soft.file[ (soft.file$V1 %like% \"!Sample_characteristics_ch1 = high risk:\" ), ])\n",
    "colnames(high.risk) <- \"V1\"\n",
    "setDT(high.risk)[, c(\"V1\", \"sample_title\") := tstrsplit(high.risk$V1, \"=\", fixed=TRUE)]\n",
    "setDT(high.risk)[, c(\"sample_title\",\"High risk\") := tstrsplit(high.risk$sample_title, \":\", fixed=TRUE)]\n",
    "high.risk <- subset(high.risk, select = c(\"High risk\"))\n",
    "\n",
    "# Sex\n",
    "gender <- as.data.frame(soft.file[ (soft.file$V1 %like% \"!Sample_characteristics_ch1 = Sex:\" ), ])\n",
    "colnames(gender) <- \"V1\"\n",
    "setDT(gender)[, c(\"V1\", \"sample_title\") := tstrsplit(gender$V1, \"=\", fixed=TRUE)]\n",
    "setDT(gender)[, c(\"sample_title\",\"Gender\") := tstrsplit(gender$sample_title, \":\", fixed=TRUE)]\n",
    "gender <- subset(gender, select = c(\"Gender\"))"
   ]
  },
  {
   "cell_type": "code",
   "execution_count": 22,
   "id": "5ba38188-5d65-47e9-98d7-b9fec023354f",
   "metadata": {},
   "outputs": [
    {
     "name": "stderr",
     "output_type": "stream",
     "text": [
      "Warning message in cbind(sample.ID$sample_ID, sample.title$sample_title, efs.day$`EFS day`, :\n",
      "“number of rows of result is not a multiple of vector length (arg 7)”\n"
     ]
    }
   ],
   "source": [
    "# training/validation:\n",
    "training_validation <- as.data.frame(soft.file[ (soft.file$V1 %like% \"!Sample_characteristics_ch1 = training/validation:\" ), ])\n",
    "colnames(training_validation) <- \"V1\"\n",
    "setDT(training_validation)[, c(\"V1\", \"sample_title\") := tstrsplit(training_validation$V1, \"=\", fixed=TRUE)]\n",
    "setDT(training_validation)[, c(\"sample_title\",\"training/validation\") := tstrsplit(training_validation$sample_title, \":\", fixed=TRUE)]\n",
    "training_validation <- subset(training_validation, select = c(\"training/validation\"))\n",
    "\n",
    "\n",
    "\n",
    "survival.data <-  as.data.frame(cbind(sample.ID$sample_ID,sample.title$sample_title, efs.day$`EFS day`, efs.bin$`EFS bin`,\n",
    "                                      os.day$`OS day`, os.bin$`OS bin`, high.risk$`High risk`, gender$Gender, training_validation$`training/validation`))\n",
    "colnames(survival.data) <-  c(\"Sample ID\",\"Sample_title\",\"EFS day\", \"EFS bin\",\"OS day\",\"OS bin\", \"High Risk\",\"Gender\",\"training/validation\")\n",
    "survival.data$Sample_title <-  tolower(survival.data$Sample_title)\n",
    "survival.data$Sample_title <- gsub(\" \",\"\",survival.data$Sample_title, fixed = T)\n",
    "survival.data$`Sample ID` <-  as.character(survival.data$`Sample ID`)\n",
    "survival.data$`Sample ID` <- gsub(\" \",\"\",survival.data$`Sample ID`, fixed = T)\n",
    "\n",
    "survival.data <- merge(survival.data,data, by.x = \"Sample ID\", by.y = \"variable\")"
   ]
  },
  {
   "cell_type": "code",
   "execution_count": 23,
   "id": "692ef328-639a-41b0-af58-e708f069411d",
   "metadata": {},
   "outputs": [
    {
     "data": {
      "text/html": [
       "<style>\n",
       ".list-inline {list-style: none; margin:0; padding: 0}\n",
       ".list-inline>li {display: inline-block}\n",
       ".list-inline>li:not(:last-child)::after {content: \"\\00b7\"; padding: 0 .5ex}\n",
       "</style>\n",
       "<ol class=list-inline><li>21825846</li><li>11</li></ol>\n"
      ],
      "text/latex": [
       "\\begin{enumerate*}\n",
       "\\item 21825846\n",
       "\\item 11\n",
       "\\end{enumerate*}\n"
      ],
      "text/markdown": [
       "1. 21825846\n",
       "2. 11\n",
       "\n",
       "\n"
      ],
      "text/plain": [
       "[1] 21825846       11"
      ]
     },
     "metadata": {},
     "output_type": "display_data"
    }
   ],
   "source": [
    "survival.data %>% dim"
   ]
  },
  {
   "cell_type": "code",
   "execution_count": 24,
   "id": "118f919d-9a10-462b-913d-57812bb49cca",
   "metadata": {},
   "outputs": [
    {
     "data": {
      "text/html": [
       "<table class=\"dataframe\">\n",
       "<caption>A data.frame: 6 × 11</caption>\n",
       "<thead>\n",
       "\t<tr><th></th><th scope=col>Sample ID</th><th scope=col>Sample_title</th><th scope=col>EFS day</th><th scope=col>EFS bin</th><th scope=col>OS day</th><th scope=col>OS bin</th><th scope=col>High Risk</th><th scope=col>Gender</th><th scope=col>training/validation</th><th scope=col>RefSeqID</th><th scope=col>value</th></tr>\n",
       "\t<tr><th></th><th scope=col>&lt;chr&gt;</th><th scope=col>&lt;chr&gt;</th><th scope=col>&lt;chr&gt;</th><th scope=col>&lt;chr&gt;</th><th scope=col>&lt;chr&gt;</th><th scope=col>&lt;chr&gt;</th><th scope=col>&lt;chr&gt;</th><th scope=col>&lt;chr&gt;</th><th scope=col>&lt;chr&gt;</th><th scope=col>&lt;chr&gt;</th><th scope=col>&lt;dbl&gt;</th></tr>\n",
       "</thead>\n",
       "<tbody>\n",
       "\t<tr><th scope=row>1</th><td>SEQC_NB001</td><td>gsm1528894</td><td> 593</td><td> 1</td><td> 1362</td><td> 1</td><td> HR</td><td> M</td><td> Training</td><td>NM_000014</td><td> 7.211</td></tr>\n",
       "\t<tr><th scope=row>2</th><td>SEQC_NB001</td><td>gsm1528894</td><td> 593</td><td> 1</td><td> 1362</td><td> 1</td><td> HR</td><td> M</td><td> Training</td><td>NM_000015</td><td>-4.396</td></tr>\n",
       "\t<tr><th scope=row>3</th><td>SEQC_NB001</td><td>gsm1528894</td><td> 593</td><td> 1</td><td> 1362</td><td> 1</td><td> HR</td><td> M</td><td> Training</td><td>NM_000016</td><td> 5.144</td></tr>\n",
       "\t<tr><th scope=row>4</th><td>SEQC_NB001</td><td>gsm1528894</td><td> 593</td><td> 1</td><td> 1362</td><td> 1</td><td> HR</td><td> M</td><td> Training</td><td>NM_000017</td><td> 3.537</td></tr>\n",
       "\t<tr><th scope=row>5</th><td>SEQC_NB001</td><td>gsm1528894</td><td> 593</td><td> 1</td><td> 1362</td><td> 1</td><td> HR</td><td> M</td><td> Training</td><td>NM_000018</td><td> 6.783</td></tr>\n",
       "\t<tr><th scope=row>6</th><td>SEQC_NB001</td><td>gsm1528894</td><td> 593</td><td> 1</td><td> 1362</td><td> 1</td><td> HR</td><td> M</td><td> Training</td><td>NM_000019</td><td> 3.650</td></tr>\n",
       "</tbody>\n",
       "</table>\n"
      ],
      "text/latex": [
       "A data.frame: 6 × 11\n",
       "\\begin{tabular}{r|lllllllllll}\n",
       "  & Sample ID & Sample\\_title & EFS day & EFS bin & OS day & OS bin & High Risk & Gender & training/validation & RefSeqID & value\\\\\n",
       "  & <chr> & <chr> & <chr> & <chr> & <chr> & <chr> & <chr> & <chr> & <chr> & <chr> & <dbl>\\\\\n",
       "\\hline\n",
       "\t1 & SEQC\\_NB001 & gsm1528894 &  593 &  1 &  1362 &  1 &  HR &  M &  Training & NM\\_000014 &  7.211\\\\\n",
       "\t2 & SEQC\\_NB001 & gsm1528894 &  593 &  1 &  1362 &  1 &  HR &  M &  Training & NM\\_000015 & -4.396\\\\\n",
       "\t3 & SEQC\\_NB001 & gsm1528894 &  593 &  1 &  1362 &  1 &  HR &  M &  Training & NM\\_000016 &  5.144\\\\\n",
       "\t4 & SEQC\\_NB001 & gsm1528894 &  593 &  1 &  1362 &  1 &  HR &  M &  Training & NM\\_000017 &  3.537\\\\\n",
       "\t5 & SEQC\\_NB001 & gsm1528894 &  593 &  1 &  1362 &  1 &  HR &  M &  Training & NM\\_000018 &  6.783\\\\\n",
       "\t6 & SEQC\\_NB001 & gsm1528894 &  593 &  1 &  1362 &  1 &  HR &  M &  Training & NM\\_000019 &  3.650\\\\\n",
       "\\end{tabular}\n"
      ],
      "text/markdown": [
       "\n",
       "A data.frame: 6 × 11\n",
       "\n",
       "| <!--/--> | Sample ID &lt;chr&gt; | Sample_title &lt;chr&gt; | EFS day &lt;chr&gt; | EFS bin &lt;chr&gt; | OS day &lt;chr&gt; | OS bin &lt;chr&gt; | High Risk &lt;chr&gt; | Gender &lt;chr&gt; | training/validation &lt;chr&gt; | RefSeqID &lt;chr&gt; | value &lt;dbl&gt; |\n",
       "|---|---|---|---|---|---|---|---|---|---|---|---|\n",
       "| 1 | SEQC_NB001 | gsm1528894 |  593 |  1 |  1362 |  1 |  HR |  M |  Training | NM_000014 |  7.211 |\n",
       "| 2 | SEQC_NB001 | gsm1528894 |  593 |  1 |  1362 |  1 |  HR |  M |  Training | NM_000015 | -4.396 |\n",
       "| 3 | SEQC_NB001 | gsm1528894 |  593 |  1 |  1362 |  1 |  HR |  M |  Training | NM_000016 |  5.144 |\n",
       "| 4 | SEQC_NB001 | gsm1528894 |  593 |  1 |  1362 |  1 |  HR |  M |  Training | NM_000017 |  3.537 |\n",
       "| 5 | SEQC_NB001 | gsm1528894 |  593 |  1 |  1362 |  1 |  HR |  M |  Training | NM_000018 |  6.783 |\n",
       "| 6 | SEQC_NB001 | gsm1528894 |  593 |  1 |  1362 |  1 |  HR |  M |  Training | NM_000019 |  3.650 |\n",
       "\n"
      ],
      "text/plain": [
       "  Sample ID  Sample_title EFS day EFS bin OS day OS bin High Risk Gender\n",
       "1 SEQC_NB001 gsm1528894    593     1       1362   1      HR        M    \n",
       "2 SEQC_NB001 gsm1528894    593     1       1362   1      HR        M    \n",
       "3 SEQC_NB001 gsm1528894    593     1       1362   1      HR        M    \n",
       "4 SEQC_NB001 gsm1528894    593     1       1362   1      HR        M    \n",
       "5 SEQC_NB001 gsm1528894    593     1       1362   1      HR        M    \n",
       "6 SEQC_NB001 gsm1528894    593     1       1362   1      HR        M    \n",
       "  training/validation RefSeqID  value \n",
       "1  Training           NM_000014  7.211\n",
       "2  Training           NM_000015 -4.396\n",
       "3  Training           NM_000016  5.144\n",
       "4  Training           NM_000017  3.537\n",
       "5  Training           NM_000018  6.783\n",
       "6  Training           NM_000019  3.650"
      ]
     },
     "metadata": {},
     "output_type": "display_data"
    }
   ],
   "source": [
    "survival.data %>% head"
   ]
  },
  {
   "cell_type": "code",
   "execution_count": 106,
   "id": "691222d9-51c4-4c28-bab0-7a181edcc568",
   "metadata": {},
   "outputs": [
    {
     "data": {
      "text/html": [
       "43827"
      ],
      "text/latex": [
       "43827"
      ],
      "text/markdown": [
       "43827"
      ],
      "text/plain": [
       "[1] 43827"
      ]
     },
     "metadata": {},
     "output_type": "display_data"
    }
   ],
   "source": [
    "survival.data$RefSeqID %>% unique %>% length"
   ]
  },
  {
   "cell_type": "code",
   "execution_count": 110,
   "id": "b9f0d1c9-17de-4d2a-a5b9-77ded2e7fdda",
   "metadata": {},
   "outputs": [
    {
     "data": {
      "text/html": [
       "<table class=\"dataframe\">\n",
       "<caption>A data.frame: 6 × 2</caption>\n",
       "<thead>\n",
       "\t<tr><th></th><th scope=col>refseq_mrna</th><th scope=col>hgnc_symbol</th></tr>\n",
       "\t<tr><th></th><th scope=col>&lt;chr&gt;</th><th scope=col>&lt;chr&gt;</th></tr>\n",
       "</thead>\n",
       "<tbody>\n",
       "\t<tr><th scope=row>1</th><td>NM_000014</td><td>A2M   </td></tr>\n",
       "\t<tr><th scope=row>2</th><td>NM_000015</td><td>NAT2  </td></tr>\n",
       "\t<tr><th scope=row>3</th><td>NM_000016</td><td>ACADM </td></tr>\n",
       "\t<tr><th scope=row>4</th><td>NM_000017</td><td>ACADS </td></tr>\n",
       "\t<tr><th scope=row>5</th><td>NM_000018</td><td>ACADVL</td></tr>\n",
       "\t<tr><th scope=row>6</th><td>NM_000019</td><td>ACAT1 </td></tr>\n",
       "</tbody>\n",
       "</table>\n"
      ],
      "text/latex": [
       "A data.frame: 6 × 2\n",
       "\\begin{tabular}{r|ll}\n",
       "  & refseq\\_mrna & hgnc\\_symbol\\\\\n",
       "  & <chr> & <chr>\\\\\n",
       "\\hline\n",
       "\t1 & NM\\_000014 & A2M   \\\\\n",
       "\t2 & NM\\_000015 & NAT2  \\\\\n",
       "\t3 & NM\\_000016 & ACADM \\\\\n",
       "\t4 & NM\\_000017 & ACADS \\\\\n",
       "\t5 & NM\\_000018 & ACADVL\\\\\n",
       "\t6 & NM\\_000019 & ACAT1 \\\\\n",
       "\\end{tabular}\n"
      ],
      "text/markdown": [
       "\n",
       "A data.frame: 6 × 2\n",
       "\n",
       "| <!--/--> | refseq_mrna &lt;chr&gt; | hgnc_symbol &lt;chr&gt; |\n",
       "|---|---|---|\n",
       "| 1 | NM_000014 | A2M    |\n",
       "| 2 | NM_000015 | NAT2   |\n",
       "| 3 | NM_000016 | ACADM  |\n",
       "| 4 | NM_000017 | ACADS  |\n",
       "| 5 | NM_000018 | ACADVL |\n",
       "| 6 | NM_000019 | ACAT1  |\n",
       "\n"
      ],
      "text/plain": [
       "  refseq_mrna hgnc_symbol\n",
       "1 NM_000014   A2M        \n",
       "2 NM_000015   NAT2       \n",
       "3 NM_000016   ACADM      \n",
       "4 NM_000017   ACADS      \n",
       "5 NM_000018   ACADVL     \n",
       "6 NM_000019   ACAT1      "
      ]
     },
     "metadata": {},
     "output_type": "display_data"
    }
   ],
   "source": [
    "gene_mapping %>% head"
   ]
  },
  {
   "cell_type": "code",
   "execution_count": 112,
   "id": "7f77c1dc-8118-4957-92eb-07b91e7074ae",
   "metadata": {},
   "outputs": [
    {
     "data": {
      "text/html": [
       "<table class=\"dataframe\">\n",
       "<caption>A data.frame: 6 × 11</caption>\n",
       "<thead>\n",
       "\t<tr><th></th><th scope=col>Sample ID</th><th scope=col>Sample_title</th><th scope=col>EFS day</th><th scope=col>EFS bin</th><th scope=col>OS day</th><th scope=col>OS bin</th><th scope=col>High Risk</th><th scope=col>Gender</th><th scope=col>training/validation</th><th scope=col>RefSeqID</th><th scope=col>value</th></tr>\n",
       "\t<tr><th></th><th scope=col>&lt;chr&gt;</th><th scope=col>&lt;chr&gt;</th><th scope=col>&lt;chr&gt;</th><th scope=col>&lt;chr&gt;</th><th scope=col>&lt;chr&gt;</th><th scope=col>&lt;chr&gt;</th><th scope=col>&lt;chr&gt;</th><th scope=col>&lt;chr&gt;</th><th scope=col>&lt;chr&gt;</th><th scope=col>&lt;chr&gt;</th><th scope=col>&lt;dbl&gt;</th></tr>\n",
       "</thead>\n",
       "<tbody>\n",
       "\t<tr><th scope=row>1</th><td>SEQC_NB001</td><td>gsm1528894</td><td> 593</td><td> 1</td><td> 1362</td><td> 1</td><td> HR</td><td> M</td><td> Training</td><td>NM_000029</td><td> 0.041</td></tr>\n",
       "\t<tr><th scope=row>2</th><td>SEQC_NB001</td><td>gsm1528894</td><td> 593</td><td> 1</td><td> 1362</td><td> 1</td><td> HR</td><td> M</td><td> Training</td><td>NM_000034</td><td> 7.405</td></tr>\n",
       "\t<tr><th scope=row>3</th><td>SEQC_NB001</td><td>gsm1528894</td><td> 593</td><td> 1</td><td> 1362</td><td> 1</td><td> HR</td><td> M</td><td> Training</td><td>NM_000060</td><td> 1.774</td></tr>\n",
       "\t<tr><th scope=row>4</th><td>SEQC_NB001</td><td>gsm1528894</td><td> 593</td><td> 1</td><td> 1362</td><td> 1</td><td> HR</td><td> M</td><td> Training</td><td>NM_000114</td><td>-4.396</td></tr>\n",
       "\t<tr><th scope=row>5</th><td>SEQC_NB001</td><td>gsm1528894</td><td> 593</td><td> 1</td><td> 1362</td><td> 1</td><td> HR</td><td> M</td><td> Training</td><td>NM_000347</td><td> 5.082</td></tr>\n",
       "\t<tr><th scope=row>6</th><td>SEQC_NB001</td><td>gsm1528894</td><td> 593</td><td> 1</td><td> 1362</td><td> 1</td><td> HR</td><td> M</td><td> Training</td><td>NM_000645</td><td> 4.153</td></tr>\n",
       "</tbody>\n",
       "</table>\n"
      ],
      "text/latex": [
       "A data.frame: 6 × 11\n",
       "\\begin{tabular}{r|lllllllllll}\n",
       "  & Sample ID & Sample\\_title & EFS day & EFS bin & OS day & OS bin & High Risk & Gender & training/validation & RefSeqID & value\\\\\n",
       "  & <chr> & <chr> & <chr> & <chr> & <chr> & <chr> & <chr> & <chr> & <chr> & <chr> & <dbl>\\\\\n",
       "\\hline\n",
       "\t1 & SEQC\\_NB001 & gsm1528894 &  593 &  1 &  1362 &  1 &  HR &  M &  Training & NM\\_000029 &  0.041\\\\\n",
       "\t2 & SEQC\\_NB001 & gsm1528894 &  593 &  1 &  1362 &  1 &  HR &  M &  Training & NM\\_000034 &  7.405\\\\\n",
       "\t3 & SEQC\\_NB001 & gsm1528894 &  593 &  1 &  1362 &  1 &  HR &  M &  Training & NM\\_000060 &  1.774\\\\\n",
       "\t4 & SEQC\\_NB001 & gsm1528894 &  593 &  1 &  1362 &  1 &  HR &  M &  Training & NM\\_000114 & -4.396\\\\\n",
       "\t5 & SEQC\\_NB001 & gsm1528894 &  593 &  1 &  1362 &  1 &  HR &  M &  Training & NM\\_000347 &  5.082\\\\\n",
       "\t6 & SEQC\\_NB001 & gsm1528894 &  593 &  1 &  1362 &  1 &  HR &  M &  Training & NM\\_000645 &  4.153\\\\\n",
       "\\end{tabular}\n"
      ],
      "text/markdown": [
       "\n",
       "A data.frame: 6 × 11\n",
       "\n",
       "| <!--/--> | Sample ID &lt;chr&gt; | Sample_title &lt;chr&gt; | EFS day &lt;chr&gt; | EFS bin &lt;chr&gt; | OS day &lt;chr&gt; | OS bin &lt;chr&gt; | High Risk &lt;chr&gt; | Gender &lt;chr&gt; | training/validation &lt;chr&gt; | RefSeqID &lt;chr&gt; | value &lt;dbl&gt; |\n",
       "|---|---|---|---|---|---|---|---|---|---|---|---|\n",
       "| 1 | SEQC_NB001 | gsm1528894 |  593 |  1 |  1362 |  1 |  HR |  M |  Training | NM_000029 |  0.041 |\n",
       "| 2 | SEQC_NB001 | gsm1528894 |  593 |  1 |  1362 |  1 |  HR |  M |  Training | NM_000034 |  7.405 |\n",
       "| 3 | SEQC_NB001 | gsm1528894 |  593 |  1 |  1362 |  1 |  HR |  M |  Training | NM_000060 |  1.774 |\n",
       "| 4 | SEQC_NB001 | gsm1528894 |  593 |  1 |  1362 |  1 |  HR |  M |  Training | NM_000114 | -4.396 |\n",
       "| 5 | SEQC_NB001 | gsm1528894 |  593 |  1 |  1362 |  1 |  HR |  M |  Training | NM_000347 |  5.082 |\n",
       "| 6 | SEQC_NB001 | gsm1528894 |  593 |  1 |  1362 |  1 |  HR |  M |  Training | NM_000645 |  4.153 |\n",
       "\n"
      ],
      "text/plain": [
       "  Sample ID  Sample_title EFS day EFS bin OS day OS bin High Risk Gender\n",
       "1 SEQC_NB001 gsm1528894    593     1       1362   1      HR        M    \n",
       "2 SEQC_NB001 gsm1528894    593     1       1362   1      HR        M    \n",
       "3 SEQC_NB001 gsm1528894    593     1       1362   1      HR        M    \n",
       "4 SEQC_NB001 gsm1528894    593     1       1362   1      HR        M    \n",
       "5 SEQC_NB001 gsm1528894    593     1       1362   1      HR        M    \n",
       "6 SEQC_NB001 gsm1528894    593     1       1362   1      HR        M    \n",
       "  training/validation RefSeqID  value \n",
       "1  Training           NM_000029  0.041\n",
       "2  Training           NM_000034  7.405\n",
       "3  Training           NM_000060  1.774\n",
       "4  Training           NM_000114 -4.396\n",
       "5  Training           NM_000347  5.082\n",
       "6  Training           NM_000645  4.153"
      ]
     },
     "metadata": {},
     "output_type": "display_data"
    }
   ],
   "source": [
    "survival.data %>% filter(!(RefSeqID %in% gene_mapping$refseq_mrna)) %>% head"
   ]
  },
  {
   "cell_type": "code",
   "execution_count": 122,
   "id": "0aff8a76-dbf1-43b0-9feb-9fecf581c2c9",
   "metadata": {},
   "outputs": [],
   "source": [
    "survival_data = merge( survival.data, sample.mycn.risk , by.x = \"Sample ID\", by.y = \"Sample_title\") "
   ]
  },
  {
   "cell_type": "code",
   "execution_count": 168,
   "id": "af3c4150-9c0a-450b-9a8c-931a6c76b8f9",
   "metadata": {},
   "outputs": [
    {
     "data": {
      "text/plain": [
       "\n",
       "   0    1  N/A \n",
       " 401   92    5 "
      ]
     },
     "metadata": {},
     "output_type": "display_data"
    }
   ],
   "source": [
    "table(sample.mycn.risk$mycn_status)"
   ]
  },
  {
   "cell_type": "code",
   "execution_count": 141,
   "id": "a93a26d4-5b37-4801-81c9-c5e0b4452ce7",
   "metadata": {},
   "outputs": [],
   "source": [
    "write.csv(survival_data, 'survival_data.csv')"
   ]
  },
  {
   "cell_type": "code",
   "execution_count": 124,
   "id": "2a6dbae7-4976-4d4a-a158-0984c644fefc",
   "metadata": {},
   "outputs": [],
   "source": [
    "survival_data_filtered = survival_data %>% filter(RefSeqID %in% gene_mapping$refseq_mrna)"
   ]
  },
  {
   "cell_type": "code",
   "execution_count": 127,
   "id": "84c62b1b-5b93-468e-a9cc-85c4f6c9bf9a",
   "metadata": {},
   "outputs": [
    {
     "data": {
      "text/html": [
       "<style>\n",
       ".list-inline {list-style: none; margin:0; padding: 0}\n",
       ".list-inline>li {display: inline-block}\n",
       ".list-inline>li:not(:last-child)::after {content: \"\\00b7\"; padding: 0 .5ex}\n",
       "</style>\n",
       "<ol class=list-inline><li>'Sample ID'</li><li>'Sample_title'</li><li>'EFS day'</li><li>'EFS bin'</li><li>'OS day'</li><li>'OS bin'</li><li>'High Risk'</li><li>'Gender'</li><li>'training/validation'</li><li>'RefSeqID'</li><li>'value'</li><li>'mycn_status'</li><li>'high_risk'</li></ol>\n"
      ],
      "text/latex": [
       "\\begin{enumerate*}\n",
       "\\item 'Sample ID'\n",
       "\\item 'Sample\\_title'\n",
       "\\item 'EFS day'\n",
       "\\item 'EFS bin'\n",
       "\\item 'OS day'\n",
       "\\item 'OS bin'\n",
       "\\item 'High Risk'\n",
       "\\item 'Gender'\n",
       "\\item 'training/validation'\n",
       "\\item 'RefSeqID'\n",
       "\\item 'value'\n",
       "\\item 'mycn\\_status'\n",
       "\\item 'high\\_risk'\n",
       "\\end{enumerate*}\n"
      ],
      "text/markdown": [
       "1. 'Sample ID'\n",
       "2. 'Sample_title'\n",
       "3. 'EFS day'\n",
       "4. 'EFS bin'\n",
       "5. 'OS day'\n",
       "6. 'OS bin'\n",
       "7. 'High Risk'\n",
       "8. 'Gender'\n",
       "9. 'training/validation'\n",
       "10. 'RefSeqID'\n",
       "11. 'value'\n",
       "12. 'mycn_status'\n",
       "13. 'high_risk'\n",
       "\n",
       "\n"
      ],
      "text/plain": [
       " [1] \"Sample ID\"           \"Sample_title\"        \"EFS day\"            \n",
       " [4] \"EFS bin\"             \"OS day\"              \"OS bin\"             \n",
       " [7] \"High Risk\"           \"Gender\"              \"training/validation\"\n",
       "[10] \"RefSeqID\"            \"value\"               \"mycn_status\"        \n",
       "[13] \"high_risk\"          "
      ]
     },
     "metadata": {},
     "output_type": "display_data"
    }
   ],
   "source": [
    "survival_data_filtered %>% colnames"
   ]
  },
  {
   "cell_type": "code",
   "execution_count": 129,
   "id": "3b40b992-53ab-4ece-b23b-fd61c0015164",
   "metadata": {},
   "outputs": [],
   "source": [
    "ano = survival_data_filtered %>% dplyr::select(-c('RefSeqID', 'value')) %>% distinct "
   ]
  },
  {
   "cell_type": "code",
   "execution_count": 142,
   "id": "75561d17-c98d-45ed-86b6-6ba621ee3d21",
   "metadata": {},
   "outputs": [],
   "source": [
    "write.csv(ano, 'survival_data.csv')"
   ]
  },
  {
   "cell_type": "code",
   "execution_count": 133,
   "id": "d1e5a9bd-32c5-456f-bcf4-c6e438924b9d",
   "metadata": {},
   "outputs": [],
   "source": [
    "ano$time = round(as.numeric(ano[['OS day']], 30),0)"
   ]
  },
  {
   "cell_type": "code",
   "execution_count": 136,
   "id": "c4593150-3140-41e9-a887-4636ac84a4d4",
   "metadata": {},
   "outputs": [],
   "source": [
    "gs=c('DDIT4', 'BAIAP2', 'CDKN1A')"
   ]
  },
  {
   "cell_type": "code",
   "execution_count": 137,
   "id": "6b83c581-3a6e-40d4-b41b-a2f985a17804",
   "metadata": {},
   "outputs": [],
   "source": [
    "tmp = matrix_data[gs,]"
   ]
  },
  {
   "cell_type": "code",
   "execution_count": 170,
   "id": "cd82a20b-2ef9-4806-9ed2-59fc8744ed1d",
   "metadata": {},
   "outputs": [
    {
     "data": {
      "text/plain": [
       "\n",
       "   0    1  N/A \n",
       " 401   92    5 "
      ]
     },
     "metadata": {},
     "output_type": "display_data"
    }
   ],
   "source": [
    "table(ano$mycn_status)"
   ]
  },
  {
   "cell_type": "markdown",
   "id": "8de37914-441a-4cbe-bebd-35547f2c2515",
   "metadata": {},
   "source": [
    "## Shengling's analysis but with mycn status"
   ]
  },
  {
   "cell_type": "code",
   "execution_count": 164,
   "id": "4e5076b5-80a2-448a-92fd-85dfeaa5dc05",
   "metadata": {},
   "outputs": [],
   "source": [
    "gse <- readRDS('/scratch/gpfs/KANG/hirak/mendel/Projects/neuroblastoma_analysis/survival/GSE49710_info.rds')\n",
    "fset <- fData(gse)\n",
    "eset <- exprs(gse)\n",
    "pset<-pData(gse)"
   ]
  },
  {
   "cell_type": "code",
   "execution_count": 161,
   "id": "9c8b2e0b-9d13-4b63-8272-5e89ca117260",
   "metadata": {},
   "outputs": [],
   "source": [
    "vals1 = c('title','death from disease:ch1', 'high risk:ch1', 'inss stage:ch1', 'progression:ch1','Sex:ch1','tissue:ch1','age at diagnosis:ch1','mycn status:ch1')\n",
    "idx = match(vals1, colnames(pset))\n",
    "metadata = data.frame(pset[,idx],\n",
    "                row.names = rownames(pset))"
   ]
  },
  {
   "cell_type": "code",
   "execution_count": 166,
   "id": "d0f33a39-763e-482b-8b20-689317671149",
   "metadata": {},
   "outputs": [
    {
     "data": {
      "text/html": [
       "<style>\n",
       ".list-inline {list-style: none; margin:0; padding: 0}\n",
       ".list-inline>li {display: inline-block}\n",
       ".list-inline>li:not(:last-child)::after {content: \"\\00b7\"; padding: 0 .5ex}\n",
       "</style>\n",
       "<ol class=list-inline><li>'title'</li><li>'geo_accession'</li><li>'status'</li><li>'submission_date'</li><li>'last_update_date'</li><li>'type'</li><li>'channel_count'</li><li>'source_name_ch1'</li><li>'organism_ch1'</li><li>'characteristics_ch1'</li><li>'characteristics_ch1.1'</li><li>'characteristics_ch1.2'</li><li>'characteristics_ch1.3'</li><li>'characteristics_ch1.4'</li><li>'characteristics_ch1.5'</li><li>'characteristics_ch1.6'</li><li>'characteristics_ch1.7'</li><li>'characteristics_ch1.8'</li><li>'characteristics_ch1.9'</li><li>'treatment_protocol_ch1'</li><li>'molecule_ch1'</li><li>'extract_protocol_ch1'</li><li>'label_ch1'</li><li>'label_protocol_ch1'</li><li>'taxid_ch1'</li><li>'hyb_protocol'</li><li>'scan_protocol'</li><li>'data_processing'</li><li>'platform_id'</li><li>'contact_name'</li><li>'contact_email'</li><li>'contact_phone'</li><li>'contact_laboratory'</li><li>'contact_department'</li><li>'contact_institute'</li><li>'contact_address'</li><li>'contact_city'</li><li>'contact_zip/postal_code'</li><li>'contact_country'</li><li>'supplementary_file'</li><li>'data_row_count'</li><li>'age at diagnosis:ch1'</li><li>'class label:ch1'</li><li>'dataset:ch1'</li><li>'death from disease:ch1'</li><li>'high risk:ch1'</li><li>'inss stage:ch1'</li><li>'mycn status:ch1'</li><li>'progression:ch1'</li><li>'Sex:ch1'</li><li>'tissue:ch1'</li></ol>\n"
      ],
      "text/latex": [
       "\\begin{enumerate*}\n",
       "\\item 'title'\n",
       "\\item 'geo\\_accession'\n",
       "\\item 'status'\n",
       "\\item 'submission\\_date'\n",
       "\\item 'last\\_update\\_date'\n",
       "\\item 'type'\n",
       "\\item 'channel\\_count'\n",
       "\\item 'source\\_name\\_ch1'\n",
       "\\item 'organism\\_ch1'\n",
       "\\item 'characteristics\\_ch1'\n",
       "\\item 'characteristics\\_ch1.1'\n",
       "\\item 'characteristics\\_ch1.2'\n",
       "\\item 'characteristics\\_ch1.3'\n",
       "\\item 'characteristics\\_ch1.4'\n",
       "\\item 'characteristics\\_ch1.5'\n",
       "\\item 'characteristics\\_ch1.6'\n",
       "\\item 'characteristics\\_ch1.7'\n",
       "\\item 'characteristics\\_ch1.8'\n",
       "\\item 'characteristics\\_ch1.9'\n",
       "\\item 'treatment\\_protocol\\_ch1'\n",
       "\\item 'molecule\\_ch1'\n",
       "\\item 'extract\\_protocol\\_ch1'\n",
       "\\item 'label\\_ch1'\n",
       "\\item 'label\\_protocol\\_ch1'\n",
       "\\item 'taxid\\_ch1'\n",
       "\\item 'hyb\\_protocol'\n",
       "\\item 'scan\\_protocol'\n",
       "\\item 'data\\_processing'\n",
       "\\item 'platform\\_id'\n",
       "\\item 'contact\\_name'\n",
       "\\item 'contact\\_email'\n",
       "\\item 'contact\\_phone'\n",
       "\\item 'contact\\_laboratory'\n",
       "\\item 'contact\\_department'\n",
       "\\item 'contact\\_institute'\n",
       "\\item 'contact\\_address'\n",
       "\\item 'contact\\_city'\n",
       "\\item 'contact\\_zip/postal\\_code'\n",
       "\\item 'contact\\_country'\n",
       "\\item 'supplementary\\_file'\n",
       "\\item 'data\\_row\\_count'\n",
       "\\item 'age at diagnosis:ch1'\n",
       "\\item 'class label:ch1'\n",
       "\\item 'dataset:ch1'\n",
       "\\item 'death from disease:ch1'\n",
       "\\item 'high risk:ch1'\n",
       "\\item 'inss stage:ch1'\n",
       "\\item 'mycn status:ch1'\n",
       "\\item 'progression:ch1'\n",
       "\\item 'Sex:ch1'\n",
       "\\item 'tissue:ch1'\n",
       "\\end{enumerate*}\n"
      ],
      "text/markdown": [
       "1. 'title'\n",
       "2. 'geo_accession'\n",
       "3. 'status'\n",
       "4. 'submission_date'\n",
       "5. 'last_update_date'\n",
       "6. 'type'\n",
       "7. 'channel_count'\n",
       "8. 'source_name_ch1'\n",
       "9. 'organism_ch1'\n",
       "10. 'characteristics_ch1'\n",
       "11. 'characteristics_ch1.1'\n",
       "12. 'characteristics_ch1.2'\n",
       "13. 'characteristics_ch1.3'\n",
       "14. 'characteristics_ch1.4'\n",
       "15. 'characteristics_ch1.5'\n",
       "16. 'characteristics_ch1.6'\n",
       "17. 'characteristics_ch1.7'\n",
       "18. 'characteristics_ch1.8'\n",
       "19. 'characteristics_ch1.9'\n",
       "20. 'treatment_protocol_ch1'\n",
       "21. 'molecule_ch1'\n",
       "22. 'extract_protocol_ch1'\n",
       "23. 'label_ch1'\n",
       "24. 'label_protocol_ch1'\n",
       "25. 'taxid_ch1'\n",
       "26. 'hyb_protocol'\n",
       "27. 'scan_protocol'\n",
       "28. 'data_processing'\n",
       "29. 'platform_id'\n",
       "30. 'contact_name'\n",
       "31. 'contact_email'\n",
       "32. 'contact_phone'\n",
       "33. 'contact_laboratory'\n",
       "34. 'contact_department'\n",
       "35. 'contact_institute'\n",
       "36. 'contact_address'\n",
       "37. 'contact_city'\n",
       "38. 'contact_zip/postal_code'\n",
       "39. 'contact_country'\n",
       "40. 'supplementary_file'\n",
       "41. 'data_row_count'\n",
       "42. 'age at diagnosis:ch1'\n",
       "43. 'class label:ch1'\n",
       "44. 'dataset:ch1'\n",
       "45. 'death from disease:ch1'\n",
       "46. 'high risk:ch1'\n",
       "47. 'inss stage:ch1'\n",
       "48. 'mycn status:ch1'\n",
       "49. 'progression:ch1'\n",
       "50. 'Sex:ch1'\n",
       "51. 'tissue:ch1'\n",
       "\n",
       "\n"
      ],
      "text/plain": [
       " [1] \"title\"                   \"geo_accession\"          \n",
       " [3] \"status\"                  \"submission_date\"        \n",
       " [5] \"last_update_date\"        \"type\"                   \n",
       " [7] \"channel_count\"           \"source_name_ch1\"        \n",
       " [9] \"organism_ch1\"            \"characteristics_ch1\"    \n",
       "[11] \"characteristics_ch1.1\"   \"characteristics_ch1.2\"  \n",
       "[13] \"characteristics_ch1.3\"   \"characteristics_ch1.4\"  \n",
       "[15] \"characteristics_ch1.5\"   \"characteristics_ch1.6\"  \n",
       "[17] \"characteristics_ch1.7\"   \"characteristics_ch1.8\"  \n",
       "[19] \"characteristics_ch1.9\"   \"treatment_protocol_ch1\" \n",
       "[21] \"molecule_ch1\"            \"extract_protocol_ch1\"   \n",
       "[23] \"label_ch1\"               \"label_protocol_ch1\"     \n",
       "[25] \"taxid_ch1\"               \"hyb_protocol\"           \n",
       "[27] \"scan_protocol\"           \"data_processing\"        \n",
       "[29] \"platform_id\"             \"contact_name\"           \n",
       "[31] \"contact_email\"           \"contact_phone\"          \n",
       "[33] \"contact_laboratory\"      \"contact_department\"     \n",
       "[35] \"contact_institute\"       \"contact_address\"        \n",
       "[37] \"contact_city\"            \"contact_zip/postal_code\"\n",
       "[39] \"contact_country\"         \"supplementary_file\"     \n",
       "[41] \"data_row_count\"          \"age at diagnosis:ch1\"   \n",
       "[43] \"class label:ch1\"         \"dataset:ch1\"            \n",
       "[45] \"death from disease:ch1\"  \"high risk:ch1\"          \n",
       "[47] \"inss stage:ch1\"          \"mycn status:ch1\"        \n",
       "[49] \"progression:ch1\"         \"Sex:ch1\"                \n",
       "[51] \"tissue:ch1\"             "
      ]
     },
     "metadata": {},
     "output_type": "display_data"
    }
   ],
   "source": [
    "pset %>% colnames"
   ]
  },
  {
   "cell_type": "code",
   "execution_count": 145,
   "id": "484a6e7c-f9c7-4af5-ad65-ef41aa521950",
   "metadata": {},
   "outputs": [],
   "source": [
    "fdata_filtered = fData(gse) %>% dplyr::select(c(\"ID\", \"GeneSymbol\")) %>%\n",
    "    mutate(`GeneSymbol` = sapply(strsplit(as.character(`GeneSymbol`), \" /// \"), `[`, 1)) %>%\n",
    "    filter(!is.na(`GeneSymbol`))"
   ]
  },
  {
   "cell_type": "code",
   "execution_count": 146,
   "id": "d55cfda5-f151-48e4-bc23-e1146716f5de",
   "metadata": {},
   "outputs": [],
   "source": [
    "eset_filtered = eset[ fdata_filtered%>% rownames, ]"
   ]
  },
  {
   "cell_type": "code",
   "execution_count": 147,
   "id": "03da1fee-4e24-4b5c-97d5-a8d3fe0fde80",
   "metadata": {},
   "outputs": [],
   "source": [
    "rownames(eset_filtered) = fdata_filtered$`GeneSymbol`"
   ]
  },
  {
   "cell_type": "code",
   "execution_count": 150,
   "id": "9fd8ff27-8f15-453e-968b-204a6e168f91",
   "metadata": {},
   "outputs": [],
   "source": [
    "ano$Sample_title = toupper(ano$Sample_title)"
   ]
  },
  {
   "cell_type": "code",
   "execution_count": 153,
   "id": "4d219324-43e1-4e13-830a-a15670a2b924",
   "metadata": {},
   "outputs": [
    {
     "ename": "ERROR",
     "evalue": "Error in eset_filtered[, ano$Sample_title]: subscript out of bounds\n",
     "output_type": "error",
     "traceback": [
      "Error in eset_filtered[, ano$Sample_title]: subscript out of bounds\nTraceback:\n"
     ]
    }
   ],
   "source": [
    "eset_filtered[, ano$Sample_title]"
   ]
  },
  {
   "cell_type": "code",
   "execution_count": 157,
   "id": "f26490cf-8bd9-472a-86b3-dabea884ab46",
   "metadata": {},
   "outputs": [
    {
     "data": {
      "text/html": [],
      "text/latex": [],
      "text/markdown": [],
      "text/plain": [
       "character(0)"
      ]
     },
     "metadata": {},
     "output_type": "display_data"
    }
   ],
   "source": [
    "intersect(ano$Sample_title, colnames(eset_filtered)) "
   ]
  },
  {
   "cell_type": "code",
   "execution_count": 160,
   "id": "7802e780-a2cb-4e39-9c18-e4d7ba899c30",
   "metadata": {},
   "outputs": [
    {
     "data": {
      "text/html": [
       "<table class=\"dataframe\">\n",
       "<caption>A data.frame: 6 × 51</caption>\n",
       "<thead>\n",
       "\t<tr><th></th><th scope=col>title</th><th scope=col>geo_accession</th><th scope=col>status</th><th scope=col>submission_date</th><th scope=col>last_update_date</th><th scope=col>type</th><th scope=col>channel_count</th><th scope=col>source_name_ch1</th><th scope=col>organism_ch1</th><th scope=col>characteristics_ch1</th><th scope=col>⋯</th><th scope=col>age at diagnosis:ch1</th><th scope=col>class label:ch1</th><th scope=col>dataset:ch1</th><th scope=col>death from disease:ch1</th><th scope=col>high risk:ch1</th><th scope=col>inss stage:ch1</th><th scope=col>mycn status:ch1</th><th scope=col>progression:ch1</th><th scope=col>Sex:ch1</th><th scope=col>tissue:ch1</th></tr>\n",
       "\t<tr><th></th><th scope=col>&lt;chr&gt;</th><th scope=col>&lt;chr&gt;</th><th scope=col>&lt;chr&gt;</th><th scope=col>&lt;chr&gt;</th><th scope=col>&lt;chr&gt;</th><th scope=col>&lt;chr&gt;</th><th scope=col>&lt;chr&gt;</th><th scope=col>&lt;chr&gt;</th><th scope=col>&lt;chr&gt;</th><th scope=col>&lt;chr&gt;</th><th scope=col>⋯</th><th scope=col>&lt;chr&gt;</th><th scope=col>&lt;chr&gt;</th><th scope=col>&lt;chr&gt;</th><th scope=col>&lt;chr&gt;</th><th scope=col>&lt;chr&gt;</th><th scope=col>&lt;chr&gt;</th><th scope=col>&lt;chr&gt;</th><th scope=col>&lt;chr&gt;</th><th scope=col>&lt;chr&gt;</th><th scope=col>&lt;chr&gt;</th></tr>\n",
       "</thead>\n",
       "<tbody>\n",
       "\t<tr><th scope=row>GSM1205238</th><td>SEQC NB patient 001</td><td>GSM1205238</td><td>Public on Oct 21 2014</td><td>Aug 09 2013</td><td>Oct 21 2014</td><td>RNA</td><td>1</td><td>neuroblastoma</td><td>Homo sapiens</td><td>tissue: Neuroblastoma</td><td>⋯</td><td>987 </td><td>1  </td><td>1</td><td>1</td><td>1</td><td>4 </td><td>0</td><td>1</td><td>M</td><td>Neuroblastoma</td></tr>\n",
       "\t<tr><th scope=row>GSM1205239</th><td>SEQC NB patient 002</td><td>GSM1205239</td><td>Public on Oct 21 2014</td><td>Aug 09 2013</td><td>Oct 21 2014</td><td>RNA</td><td>1</td><td>neuroblastoma</td><td>Homo sapiens</td><td>tissue: Neuroblastoma</td><td>⋯</td><td>1808</td><td>1  </td><td>2</td><td>1</td><td>1</td><td>4 </td><td>0</td><td>1</td><td>M</td><td>Neuroblastoma</td></tr>\n",
       "\t<tr><th scope=row>GSM1205240</th><td>SEQC NB patient 003</td><td>GSM1205240</td><td>Public on Oct 21 2014</td><td>Aug 09 2013</td><td>Oct 21 2014</td><td>RNA</td><td>1</td><td>neuroblastoma</td><td>Homo sapiens</td><td>tissue: Neuroblastoma</td><td>⋯</td><td>625 </td><td>1  </td><td>1</td><td>1</td><td>1</td><td>4 </td><td>1</td><td>1</td><td>F</td><td>Neuroblastoma</td></tr>\n",
       "\t<tr><th scope=row>GSM1205241</th><td>SEQC NB patient 004</td><td>GSM1205241</td><td>Public on Oct 21 2014</td><td>Aug 09 2013</td><td>Oct 21 2014</td><td>RNA</td><td>1</td><td>neuroblastoma</td><td>Homo sapiens</td><td>tissue: Neuroblastoma</td><td>⋯</td><td>335 </td><td>N/A</td><td>2</td><td>0</td><td>1</td><td>2 </td><td>1</td><td>0</td><td>F</td><td>Neuroblastoma</td></tr>\n",
       "\t<tr><th scope=row>GSM1205242</th><td>SEQC NB patient 005</td><td>GSM1205242</td><td>Public on Oct 21 2014</td><td>Aug 09 2013</td><td>Oct 21 2014</td><td>RNA</td><td>1</td><td>neuroblastoma</td><td>Homo sapiens</td><td>tissue: Neuroblastoma</td><td>⋯</td><td>536 </td><td>1  </td><td>1</td><td>1</td><td>1</td><td>4 </td><td>1</td><td>1</td><td>F</td><td>Neuroblastoma</td></tr>\n",
       "\t<tr><th scope=row>GSM1205243</th><td>SEQC NB patient 006</td><td>GSM1205243</td><td>Public on Oct 21 2014</td><td>Aug 09 2013</td><td>Oct 21 2014</td><td>RNA</td><td>1</td><td>neuroblastoma</td><td>Homo sapiens</td><td>tissue: Neuroblastoma</td><td>⋯</td><td>147 </td><td>0  </td><td>2</td><td>0</td><td>0</td><td>4S</td><td>0</td><td>0</td><td>M</td><td>Neuroblastoma</td></tr>\n",
       "</tbody>\n",
       "</table>\n"
      ],
      "text/latex": [
       "A data.frame: 6 × 51\n",
       "\\begin{tabular}{r|lllllllllllllllllllll}\n",
       "  & title & geo\\_accession & status & submission\\_date & last\\_update\\_date & type & channel\\_count & source\\_name\\_ch1 & organism\\_ch1 & characteristics\\_ch1 & ⋯ & age at diagnosis:ch1 & class label:ch1 & dataset:ch1 & death from disease:ch1 & high risk:ch1 & inss stage:ch1 & mycn status:ch1 & progression:ch1 & Sex:ch1 & tissue:ch1\\\\\n",
       "  & <chr> & <chr> & <chr> & <chr> & <chr> & <chr> & <chr> & <chr> & <chr> & <chr> & ⋯ & <chr> & <chr> & <chr> & <chr> & <chr> & <chr> & <chr> & <chr> & <chr> & <chr>\\\\\n",
       "\\hline\n",
       "\tGSM1205238 & SEQC NB patient 001 & GSM1205238 & Public on Oct 21 2014 & Aug 09 2013 & Oct 21 2014 & RNA & 1 & neuroblastoma & Homo sapiens & tissue: Neuroblastoma & ⋯ & 987  & 1   & 1 & 1 & 1 & 4  & 0 & 1 & M & Neuroblastoma\\\\\n",
       "\tGSM1205239 & SEQC NB patient 002 & GSM1205239 & Public on Oct 21 2014 & Aug 09 2013 & Oct 21 2014 & RNA & 1 & neuroblastoma & Homo sapiens & tissue: Neuroblastoma & ⋯ & 1808 & 1   & 2 & 1 & 1 & 4  & 0 & 1 & M & Neuroblastoma\\\\\n",
       "\tGSM1205240 & SEQC NB patient 003 & GSM1205240 & Public on Oct 21 2014 & Aug 09 2013 & Oct 21 2014 & RNA & 1 & neuroblastoma & Homo sapiens & tissue: Neuroblastoma & ⋯ & 625  & 1   & 1 & 1 & 1 & 4  & 1 & 1 & F & Neuroblastoma\\\\\n",
       "\tGSM1205241 & SEQC NB patient 004 & GSM1205241 & Public on Oct 21 2014 & Aug 09 2013 & Oct 21 2014 & RNA & 1 & neuroblastoma & Homo sapiens & tissue: Neuroblastoma & ⋯ & 335  & N/A & 2 & 0 & 1 & 2  & 1 & 0 & F & Neuroblastoma\\\\\n",
       "\tGSM1205242 & SEQC NB patient 005 & GSM1205242 & Public on Oct 21 2014 & Aug 09 2013 & Oct 21 2014 & RNA & 1 & neuroblastoma & Homo sapiens & tissue: Neuroblastoma & ⋯ & 536  & 1   & 1 & 1 & 1 & 4  & 1 & 1 & F & Neuroblastoma\\\\\n",
       "\tGSM1205243 & SEQC NB patient 006 & GSM1205243 & Public on Oct 21 2014 & Aug 09 2013 & Oct 21 2014 & RNA & 1 & neuroblastoma & Homo sapiens & tissue: Neuroblastoma & ⋯ & 147  & 0   & 2 & 0 & 0 & 4S & 0 & 0 & M & Neuroblastoma\\\\\n",
       "\\end{tabular}\n"
      ],
      "text/markdown": [
       "\n",
       "A data.frame: 6 × 51\n",
       "\n",
       "| <!--/--> | title &lt;chr&gt; | geo_accession &lt;chr&gt; | status &lt;chr&gt; | submission_date &lt;chr&gt; | last_update_date &lt;chr&gt; | type &lt;chr&gt; | channel_count &lt;chr&gt; | source_name_ch1 &lt;chr&gt; | organism_ch1 &lt;chr&gt; | characteristics_ch1 &lt;chr&gt; | ⋯ ⋯ | age at diagnosis:ch1 &lt;chr&gt; | class label:ch1 &lt;chr&gt; | dataset:ch1 &lt;chr&gt; | death from disease:ch1 &lt;chr&gt; | high risk:ch1 &lt;chr&gt; | inss stage:ch1 &lt;chr&gt; | mycn status:ch1 &lt;chr&gt; | progression:ch1 &lt;chr&gt; | Sex:ch1 &lt;chr&gt; | tissue:ch1 &lt;chr&gt; |\n",
       "|---|---|---|---|---|---|---|---|---|---|---|---|---|---|---|---|---|---|---|---|---|---|\n",
       "| GSM1205238 | SEQC NB patient 001 | GSM1205238 | Public on Oct 21 2014 | Aug 09 2013 | Oct 21 2014 | RNA | 1 | neuroblastoma | Homo sapiens | tissue: Neuroblastoma | ⋯ | 987  | 1   | 1 | 1 | 1 | 4  | 0 | 1 | M | Neuroblastoma |\n",
       "| GSM1205239 | SEQC NB patient 002 | GSM1205239 | Public on Oct 21 2014 | Aug 09 2013 | Oct 21 2014 | RNA | 1 | neuroblastoma | Homo sapiens | tissue: Neuroblastoma | ⋯ | 1808 | 1   | 2 | 1 | 1 | 4  | 0 | 1 | M | Neuroblastoma |\n",
       "| GSM1205240 | SEQC NB patient 003 | GSM1205240 | Public on Oct 21 2014 | Aug 09 2013 | Oct 21 2014 | RNA | 1 | neuroblastoma | Homo sapiens | tissue: Neuroblastoma | ⋯ | 625  | 1   | 1 | 1 | 1 | 4  | 1 | 1 | F | Neuroblastoma |\n",
       "| GSM1205241 | SEQC NB patient 004 | GSM1205241 | Public on Oct 21 2014 | Aug 09 2013 | Oct 21 2014 | RNA | 1 | neuroblastoma | Homo sapiens | tissue: Neuroblastoma | ⋯ | 335  | N/A | 2 | 0 | 1 | 2  | 1 | 0 | F | Neuroblastoma |\n",
       "| GSM1205242 | SEQC NB patient 005 | GSM1205242 | Public on Oct 21 2014 | Aug 09 2013 | Oct 21 2014 | RNA | 1 | neuroblastoma | Homo sapiens | tissue: Neuroblastoma | ⋯ | 536  | 1   | 1 | 1 | 1 | 4  | 1 | 1 | F | Neuroblastoma |\n",
       "| GSM1205243 | SEQC NB patient 006 | GSM1205243 | Public on Oct 21 2014 | Aug 09 2013 | Oct 21 2014 | RNA | 1 | neuroblastoma | Homo sapiens | tissue: Neuroblastoma | ⋯ | 147  | 0   | 2 | 0 | 0 | 4S | 0 | 0 | M | Neuroblastoma |\n",
       "\n"
      ],
      "text/plain": [
       "           title               geo_accession status               \n",
       "GSM1205238 SEQC NB patient 001 GSM1205238    Public on Oct 21 2014\n",
       "GSM1205239 SEQC NB patient 002 GSM1205239    Public on Oct 21 2014\n",
       "GSM1205240 SEQC NB patient 003 GSM1205240    Public on Oct 21 2014\n",
       "GSM1205241 SEQC NB patient 004 GSM1205241    Public on Oct 21 2014\n",
       "GSM1205242 SEQC NB patient 005 GSM1205242    Public on Oct 21 2014\n",
       "GSM1205243 SEQC NB patient 006 GSM1205243    Public on Oct 21 2014\n",
       "           submission_date last_update_date type channel_count source_name_ch1\n",
       "GSM1205238 Aug 09 2013     Oct 21 2014      RNA  1             neuroblastoma  \n",
       "GSM1205239 Aug 09 2013     Oct 21 2014      RNA  1             neuroblastoma  \n",
       "GSM1205240 Aug 09 2013     Oct 21 2014      RNA  1             neuroblastoma  \n",
       "GSM1205241 Aug 09 2013     Oct 21 2014      RNA  1             neuroblastoma  \n",
       "GSM1205242 Aug 09 2013     Oct 21 2014      RNA  1             neuroblastoma  \n",
       "GSM1205243 Aug 09 2013     Oct 21 2014      RNA  1             neuroblastoma  \n",
       "           organism_ch1 characteristics_ch1   ⋯ age at diagnosis:ch1\n",
       "GSM1205238 Homo sapiens tissue: Neuroblastoma ⋯ 987                 \n",
       "GSM1205239 Homo sapiens tissue: Neuroblastoma ⋯ 1808                \n",
       "GSM1205240 Homo sapiens tissue: Neuroblastoma ⋯ 625                 \n",
       "GSM1205241 Homo sapiens tissue: Neuroblastoma ⋯ 335                 \n",
       "GSM1205242 Homo sapiens tissue: Neuroblastoma ⋯ 536                 \n",
       "GSM1205243 Homo sapiens tissue: Neuroblastoma ⋯ 147                 \n",
       "           class label:ch1 dataset:ch1 death from disease:ch1 high risk:ch1\n",
       "GSM1205238 1               1           1                      1            \n",
       "GSM1205239 1               2           1                      1            \n",
       "GSM1205240 1               1           1                      1            \n",
       "GSM1205241 N/A             2           0                      1            \n",
       "GSM1205242 1               1           1                      1            \n",
       "GSM1205243 0               2           0                      0            \n",
       "           inss stage:ch1 mycn status:ch1 progression:ch1 Sex:ch1 tissue:ch1   \n",
       "GSM1205238 4              0               1               M       Neuroblastoma\n",
       "GSM1205239 4              0               1               M       Neuroblastoma\n",
       "GSM1205240 4              1               1               F       Neuroblastoma\n",
       "GSM1205241 2              1               0               F       Neuroblastoma\n",
       "GSM1205242 4              1               1               F       Neuroblastoma\n",
       "GSM1205243 4S             0               0               M       Neuroblastoma"
      ]
     },
     "metadata": {},
     "output_type": "display_data"
    }
   ],
   "source": [
    "pset %>% head"
   ]
  },
  {
   "cell_type": "code",
   "execution_count": 169,
   "id": "f8287fd3-adce-4f7a-82a0-953acba6f054",
   "metadata": {},
   "outputs": [
    {
     "data": {
      "text/plain": [
       "\n",
       "       0        1      N/A \n",
       "17574627  4032084   219135 "
      ]
     },
     "metadata": {},
     "output_type": "display_data"
    }
   ],
   "source": [
    "table(survival_data$mycn_status)"
   ]
  },
  {
   "cell_type": "code",
   "execution_count": null,
   "id": "469242d9-0891-47bb-ada7-38737c2a0046",
   "metadata": {},
   "outputs": [],
   "source": []
  }
 ],
 "metadata": {
  "kernelspec": {
   "display_name": "R",
   "language": "R",
   "name": "ir"
  },
  "language_info": {
   "codemirror_mode": "r",
   "file_extension": ".r",
   "mimetype": "text/x-r-source",
   "name": "R",
   "pygments_lexer": "r",
   "version": "4.3.3"
  }
 },
 "nbformat": 4,
 "nbformat_minor": 5
}
