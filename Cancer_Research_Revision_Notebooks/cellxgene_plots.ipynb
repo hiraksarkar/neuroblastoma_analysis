{
 "cells": [
  {
   "cell_type": "code",
   "execution_count": 2,
   "id": "96f4a753-c6a7-41c2-aa09-78fa98597720",
   "metadata": {},
   "outputs": [
    {
     "name": "stderr",
     "output_type": "stream",
     "text": [
      "/scratch/gpfs/KANG/hirak/mambaforge/envs/r43/lib/python3.11/site-packages/h5py/__init__.py:36: UserWarning: h5py is running against HDF5 1.14.3 when it was built against 1.14.2, this may cause problems\n",
      "  _warn((\"h5py is running against HDF5 {0} when it was built against {1}, \"\n"
     ]
    }
   ],
   "source": [
    "import cellxgene_census"
   ]
  },
  {
   "cell_type": "code",
   "execution_count": 3,
   "id": "1b33c330-ca76-4a22-9cd3-40d2dfae2214",
   "metadata": {},
   "outputs": [
    {
     "name": "stderr",
     "output_type": "stream",
     "text": [
      "The \"stable\" release is currently 2024-07-01. Specify 'census_version=\"2024-07-01\"' in future calls to open_soma() to ensure data consistency.\n"
     ]
    }
   ],
   "source": [
    "census = cellxgene_census.open_soma()"
   ]
  },
  {
   "cell_type": "code",
   "execution_count": 4,
   "id": "91995dd7-0323-45e3-9233-713ca1beda45",
   "metadata": {},
   "outputs": [
    {
     "data": {
      "text/plain": [
       "<Collection 's3://cellxgene-census-public-us-west-2/cell-census/2024-07-01/soma/' (open for 'r') (2 items)\n",
       "    'census_info': 's3://cellxgene-census-public-us-west-2/cell-census/2024-07-01/soma/census_info' (unopened)\n",
       "    'census_data': 's3://cellxgene-census-public-us-west-2/cell-census/2024-07-01/soma/census_data' (unopened)>"
      ]
     },
     "execution_count": 4,
     "metadata": {},
     "output_type": "execute_result"
    }
   ],
   "source": [
    "census"
   ]
  },
  {
   "cell_type": "code",
   "execution_count": 5,
   "id": "7626a486-7bf6-438b-87c1-94aba68836a5",
   "metadata": {},
   "outputs": [],
   "source": [
    "import pandas as pd"
   ]
  },
  {
   "cell_type": "code",
   "execution_count": 7,
   "id": "40fdc091-398c-4880-b071-5a85bcca757e",
   "metadata": {},
   "outputs": [
    {
     "data": {
      "text/html": [
       "<div>\n",
       "<style scoped>\n",
       "    .dataframe tbody tr th:only-of-type {\n",
       "        vertical-align: middle;\n",
       "    }\n",
       "\n",
       "    .dataframe tbody tr th {\n",
       "        vertical-align: top;\n",
       "    }\n",
       "\n",
       "    .dataframe thead th {\n",
       "        text-align: right;\n",
       "    }\n",
       "</style>\n",
       "<table border=\"1\" class=\"dataframe\">\n",
       "  <thead>\n",
       "    <tr style=\"text-align: right;\">\n",
       "      <th></th>\n",
       "      <th>Tissue</th>\n",
       "      <th>Cell Type</th>\n",
       "      <th>Cell Count</th>\n",
       "      <th>Tissue Composition</th>\n",
       "      <th>Gene Symbol</th>\n",
       "      <th>Expression</th>\n",
       "      <th>Expression, Scaled</th>\n",
       "      <th>Number of Cells Expressing Genes</th>\n",
       "    </tr>\n",
       "  </thead>\n",
       "  <tbody>\n",
       "    <tr>\n",
       "      <th>0</th>\n",
       "      <td>adrenal gland</td>\n",
       "      <td>aggregated</td>\n",
       "      <td>139187</td>\n",
       "      <td>2.92%</td>\n",
       "      <td>AIF1</td>\n",
       "      <td>2.590225</td>\n",
       "      <td>0.250005</td>\n",
       "      <td>4059.0</td>\n",
       "    </tr>\n",
       "    <tr>\n",
       "      <th>1</th>\n",
       "      <td>adrenal gland</td>\n",
       "      <td>aggregated</td>\n",
       "      <td>139187</td>\n",
       "      <td>14.58%</td>\n",
       "      <td>CST3</td>\n",
       "      <td>2.646280</td>\n",
       "      <td>0.261939</td>\n",
       "      <td>20298.0</td>\n",
       "    </tr>\n",
       "    <tr>\n",
       "      <th>2</th>\n",
       "      <td>adrenal gland</td>\n",
       "      <td>aggregated</td>\n",
       "      <td>139187</td>\n",
       "      <td>6.70%</td>\n",
       "      <td>HLA-DRA</td>\n",
       "      <td>2.874931</td>\n",
       "      <td>0.310617</td>\n",
       "      <td>9328.0</td>\n",
       "    </tr>\n",
       "    <tr>\n",
       "      <th>3</th>\n",
       "      <td>adrenal gland</td>\n",
       "      <td>aggregated</td>\n",
       "      <td>139187</td>\n",
       "      <td>7.59%</td>\n",
       "      <td>HLA-DPA1</td>\n",
       "      <td>2.484445</td>\n",
       "      <td>0.227486</td>\n",
       "      <td>10569.0</td>\n",
       "    </tr>\n",
       "    <tr>\n",
       "      <th>4</th>\n",
       "      <td>adrenal gland</td>\n",
       "      <td>aggregated</td>\n",
       "      <td>139187</td>\n",
       "      <td>2.32%</td>\n",
       "      <td>LYZ</td>\n",
       "      <td>3.004299</td>\n",
       "      <td>0.338158</td>\n",
       "      <td>3230.0</td>\n",
       "    </tr>\n",
       "    <tr>\n",
       "      <th>...</th>\n",
       "      <td>...</td>\n",
       "      <td>...</td>\n",
       "      <td>...</td>\n",
       "      <td>...</td>\n",
       "      <td>...</td>\n",
       "      <td>...</td>\n",
       "      <td>...</td>\n",
       "      <td>...</td>\n",
       "    </tr>\n",
       "    <tr>\n",
       "      <th>2595</th>\n",
       "      <td>adrenal gland</td>\n",
       "      <td>endothelial cell</td>\n",
       "      <td>4262</td>\n",
       "      <td>0.00%</td>\n",
       "      <td>DGKB</td>\n",
       "      <td>2.320003</td>\n",
       "      <td>0.192478</td>\n",
       "      <td>6.0</td>\n",
       "    </tr>\n",
       "    <tr>\n",
       "      <th>2596</th>\n",
       "      <td>adrenal gland</td>\n",
       "      <td>endothelial cell</td>\n",
       "      <td>4262</td>\n",
       "      <td>0.07%</td>\n",
       "      <td>RALYL</td>\n",
       "      <td>2.565587</td>\n",
       "      <td>0.244760</td>\n",
       "      <td>92.0</td>\n",
       "    </tr>\n",
       "    <tr>\n",
       "      <th>2597</th>\n",
       "      <td>adrenal gland</td>\n",
       "      <td>endothelial cell</td>\n",
       "      <td>4262</td>\n",
       "      <td>0.01%</td>\n",
       "      <td>MGAT4C</td>\n",
       "      <td>2.404536</td>\n",
       "      <td>0.210474</td>\n",
       "      <td>8.0</td>\n",
       "    </tr>\n",
       "    <tr>\n",
       "      <th>2598</th>\n",
       "      <td>adrenal gland</td>\n",
       "      <td>endothelial cell</td>\n",
       "      <td>4262</td>\n",
       "      <td>0.06%</td>\n",
       "      <td>CACNB2</td>\n",
       "      <td>2.435112</td>\n",
       "      <td>0.216983</td>\n",
       "      <td>85.0</td>\n",
       "    </tr>\n",
       "    <tr>\n",
       "      <th>2599</th>\n",
       "      <td>adrenal gland</td>\n",
       "      <td>endothelial cell</td>\n",
       "      <td>4262</td>\n",
       "      <td>0.13%</td>\n",
       "      <td>MAGI2</td>\n",
       "      <td>2.631634</td>\n",
       "      <td>0.258821</td>\n",
       "      <td>175.0</td>\n",
       "    </tr>\n",
       "  </tbody>\n",
       "</table>\n",
       "<p>2600 rows × 8 columns</p>\n",
       "</div>"
      ],
      "text/plain": [
       "             Tissue         Cell Type  Cell Count Tissue Composition  \\\n",
       "0     adrenal gland        aggregated      139187              2.92%   \n",
       "1     adrenal gland        aggregated      139187             14.58%   \n",
       "2     adrenal gland        aggregated      139187              6.70%   \n",
       "3     adrenal gland        aggregated      139187              7.59%   \n",
       "4     adrenal gland        aggregated      139187              2.32%   \n",
       "...             ...               ...         ...                ...   \n",
       "2595  adrenal gland  endothelial cell        4262              0.00%   \n",
       "2596  adrenal gland  endothelial cell        4262              0.07%   \n",
       "2597  adrenal gland  endothelial cell        4262              0.01%   \n",
       "2598  adrenal gland  endothelial cell        4262              0.06%   \n",
       "2599  adrenal gland  endothelial cell        4262              0.13%   \n",
       "\n",
       "     Gene Symbol  Expression  Expression, Scaled  \\\n",
       "0           AIF1    2.590225            0.250005   \n",
       "1           CST3    2.646280            0.261939   \n",
       "2        HLA-DRA    2.874931            0.310617   \n",
       "3       HLA-DPA1    2.484445            0.227486   \n",
       "4            LYZ    3.004299            0.338158   \n",
       "...          ...         ...                 ...   \n",
       "2595        DGKB    2.320003            0.192478   \n",
       "2596       RALYL    2.565587            0.244760   \n",
       "2597      MGAT4C    2.404536            0.210474   \n",
       "2598      CACNB2    2.435112            0.216983   \n",
       "2599       MAGI2    2.631634            0.258821   \n",
       "\n",
       "      Number of Cells Expressing Genes  \n",
       "0                               4059.0  \n",
       "1                              20298.0  \n",
       "2                               9328.0  \n",
       "3                              10569.0  \n",
       "4                               3230.0  \n",
       "...                                ...  \n",
       "2595                               6.0  \n",
       "2596                              92.0  \n",
       "2597                               8.0  \n",
       "2598                              85.0  \n",
       "2599                             175.0  \n",
       "\n",
       "[2600 rows x 8 columns]"
      ]
     },
     "execution_count": 7,
     "metadata": {},
     "output_type": "execute_result"
    }
   ],
   "source": [
    "pd.read_csv('CELLxGENE_gene_expression_080524.csv', comment=\"#\")"
   ]
  },
  {
   "cell_type": "code",
   "execution_count": 8,
   "id": "80696fca-7c59-4d4c-8654-2278199e445e",
   "metadata": {},
   "outputs": [
    {
     "name": "stderr",
     "output_type": "stream",
     "text": [
      "/scratch/gpfs/KANG/hirak/mambaforge/envs/r43/lib/python3.11/site-packages/anndata/_core/anndata.py:121: ImplicitModificationWarning: Transforming to str index.\n",
      "  warnings.warn(\"Transforming to str index.\", ImplicitModificationWarning)\n"
     ]
    }
   ],
   "source": [
    "adata = cellxgene_census.get_anndata(\n",
    "    census=census,\n",
    "    organism=\"Mus musculus\",\n",
    "    obs_value_filter=\"tissue == 'dorsal root ganglion' and is_primary_data == True\",\n",
    ")"
   ]
  },
  {
   "cell_type": "code",
   "execution_count": 9,
   "id": "c7780a6e-663a-4a17-b0fd-2ce1749b4e62",
   "metadata": {},
   "outputs": [
    {
     "data": {
      "text/plain": [
       "AnnData object with n_obs × n_vars = 0 × 52437\n",
       "    obs: 'soma_joinid', 'dataset_id', 'assay', 'assay_ontology_term_id', 'cell_type', 'cell_type_ontology_term_id', 'development_stage', 'development_stage_ontology_term_id', 'disease', 'disease_ontology_term_id', 'donor_id', 'is_primary_data', 'observation_joinid', 'self_reported_ethnicity', 'self_reported_ethnicity_ontology_term_id', 'sex', 'sex_ontology_term_id', 'suspension_type', 'tissue', 'tissue_ontology_term_id', 'tissue_type', 'tissue_general', 'tissue_general_ontology_term_id', 'raw_sum', 'nnz', 'raw_mean_nnz', 'raw_variance_nnz', 'n_measured_vars'\n",
       "    var: 'soma_joinid', 'feature_id', 'feature_name', 'feature_length', 'nnz', 'n_measured_obs'"
      ]
     },
     "execution_count": 9,
     "metadata": {},
     "output_type": "execute_result"
    }
   ],
   "source": [
    "adata"
   ]
  },
  {
   "cell_type": "code",
   "execution_count": null,
   "id": "d3e28729-4675-4b97-b5fc-6fabf91d3d21",
   "metadata": {},
   "outputs": [],
   "source": []
  }
 ],
 "metadata": {
  "kernelspec": {
   "display_name": "Python 3 (ipykernel)",
   "language": "python",
   "name": "python3"
  },
  "language_info": {
   "codemirror_mode": {
    "name": "ipython",
    "version": 3
   },
   "file_extension": ".py",
   "mimetype": "text/x-python",
   "name": "python",
   "nbconvert_exporter": "python",
   "pygments_lexer": "ipython3",
   "version": "3.11.8"
  }
 },
 "nbformat": 4,
 "nbformat_minor": 5
}
